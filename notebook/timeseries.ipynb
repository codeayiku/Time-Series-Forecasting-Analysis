{
 "cells": [
  {
   "cell_type": "markdown",
   "metadata": {},
   "source": [
    "### `Business Understanding`\n",
    "\n",
    "#### **Problem Statement:** Corporation Favorita, a large Ecuadorian-based grocery retailer, aims to optimize its inventory management by ensuring the right quantity of products is always in stock across various locations. Overstocking leads to increased holding costs and potential waste, while understocking can result in lost sales and dissatisfied customers. Accurate demand forecasting is crucial to balance these challenges and improve overall operational efficiency.\n",
    "\n",
    "#### **Project Goal:** The primary goal of this project is to develop a series of machine learning models to accurately forecast the demand for products across different store locations of Corporation Favorita. These forecasts will enable better inventory management, reduce costs, enhance customer satisfaction, and improve sales performance.\n",
    "\n",
    "#### **Stakeholders:**\n",
    "\n",
    "- Favorita\n",
    "- Sales Team\n",
    "- Marketing Team\n",
    "\n",
    "#### **Key Metrics and Success Criteria**\n",
    "\n",
    "- The model should have an accuracy score of 85%(on balanced data)\n",
    "- Good models are expected to have an F1 score of > 0.80 or 80%\n",
    "- There should be atleast 4 Baseline models\n",
    "- All hyperparameter tuning should only be applied to baseline models if they exceed their F1 score\n",
    "- An ROC Curver of 80% is ideal for the model to generalize\n",
    "\n",
    "##### **Null Hypothesis:** The number of products under promotion does not influence sales in supermarkets.\n",
    "\n",
    "##### **Alternate Hypothesis:** The number of products under promotion significantly influence sales in supermarkets..\n",
    "\n",
    "##### **File Descriptions and Data Field Information:**\n",
    "\n",
    "#### **train.csv**\n",
    "\n",
    "The training data, comprising time series of features store_nbr, family, and onpromotion as well as the target sales.\n",
    "\n",
    "store_nbr identifies the store at which the products are sold.\n",
    "\n",
    "family identifies the type of product sold.\n",
    "\n",
    "sales gives the total sales for a product family at a particular store at a given date. Fractional values are possible since products can be sold in fractional units (1.5 kg of cheese, for instance, as opposed to 1 bag of chips).\n",
    "\n",
    "onpromotion gives the total number of items in a product family that were being promoted at a store at a given date.\n",
    "\n",
    "#### **test.csv**\n",
    "\n",
    "The test data, having the same features as the training data. You will predict the target sales for the dates in this file.\n",
    "\n",
    "The dates in the test data are for the 15 days after the last date in the training data.\n",
    "\n",
    "#### **transaction.csv**\n",
    "\n",
    "- Contains date, store_nbr and transaction made on that specific date.\n",
    "\n",
    "#### **sample_submission.csv**\n",
    "\n",
    "- A sample submission file in the correct format.\n",
    "\n",
    "#### **stores.csv**\n",
    "\n",
    "- Store metadata, including city, state, type, and cluster.\n",
    "\n",
    "- cluster is a grouping of similar stores.\n",
    "\n",
    "#### **oil.csv**\n",
    "\n",
    "- Daily oil price which includes values during both the train and test data timeframes. (Ecuador is an oil-dependent country and its economical health is highly vulnerable to shocks in oil prices.)\n",
    "\n",
    "#### **holidays_events.csv**\n",
    "\n",
    "- Holidays and Events, with metadata\n",
    "\n",
    "##### **Analytical Questions:**\n",
    "\n",
    "1. Is the train dataset complete (has all the required dates)?\n",
    "\n",
    "2. Which dates have the lowest and highest sales for each year (excluding days the store was closed)?\n",
    "\n",
    "3. Compare the sales for each month across the years and determine which month of which year had the highest sales.\n",
    "\n",
    "4. Did the earthquake impact sales?\n",
    "\n",
    "5. Are certain stores or groups of stores selling more products? (Cluster, city, state, type)\n",
    "\n",
    "6. Are sales affected by promotions, oil prices and holidays?\n",
    "\n",
    "7. What analysis can we get from the date and its extractable features?\n",
    "\n",
    "8. Which product family and stores did the promotions affect.\n",
    "\n",
    "9. What is the difference between RMSLE, RMSE, MSE (or why is the MAE greater than all of them?)\n",
    "\n",
    "10. Does the payment of wages in the public sector on the 15th and last days of the month influence the store sales.\n"
   ]
  },
  {
   "cell_type": "markdown",
   "metadata": {},
   "source": [
    "### `DATA UNDERSTANDING`\n"
   ]
  },
  {
   "cell_type": "markdown",
   "metadata": {},
   "source": [
    "### **Importations**\n"
   ]
  },
  {
   "cell_type": "code",
   "execution_count": 104,
   "metadata": {},
   "outputs": [],
   "source": [
    "# Import necessary libraries\n",
    "\n",
    "# Connect to server\n",
    "import pyodbc\n",
    "from dotenv import dotenv_values\n",
    "\n",
    "# Datetime\n",
    "from datetime import datetime\n",
    "\n",
    "# Data manipulation\n",
    "import numpy as np\n",
    "import pandas as pd\n",
    "\n",
    "# Visualization\n",
    "import matplotlib.pyplot as plt\n",
    "import plotly.graph_objects as go\n",
    "import plotly.express as px\n",
    "from plotly.subplots import make_subplots\n",
    "import seaborn as sns\n",
    "\n",
    "\n",
    "# Decomposition\n",
    "from statsmodels.tsa.seasonal import seasonal_decompose\n",
    "\n",
    "# Statistical Analysis\n",
    "import scipy.stats as stats\n",
    "from statsmodels.stats.weightstats import ttest_ind\n",
    "import statsmodels.api as sm\n",
    "# from pmdarima.arima import CHTest, nsdiffs\n",
    "from arch.unitroot import ADF, KPSS\n",
    "from statsmodels.stats.diagnostic import acorr_ljungbox\n",
    "import phik\n",
    "from statsmodels.tsa.arima.model import ARIMA\n",
    "from statsmodels.tsa.statespace.sarimax import SARIMAX\n",
    "from statsmodels.tsa.holtwinters import ExponentialSmoothing\n",
    "\n",
    "# Machine Learning Modeling\n",
    "from sklearn.preprocessing import StandardScaler, MinMaxScaler, OneHotEncoder\n",
    "from sklearn.compose import ColumnTransformer\n",
    "from sklearn.linear_model import LinearRegression\n",
    "from sklearn.model_selection import RandomizedSearchCV\n",
    "import xgboost as xgb\n",
    "from sklearn.metrics import mean_squared_error\n",
    "\n",
    "import random\n",
    "\n",
    "import warnings\n",
    "\n",
    "# ignore warnings\n",
    "warnings.filterwarnings('ignore')"
   ]
  },
  {
   "cell_type": "code",
   "execution_count": 8,
   "metadata": {},
   "outputs": [],
   "source": [
    "# Load environment variables from a .env file\n",
    "env_variables = dotenv_values('../.env')\n",
    "\n",
    "server= env_variables.get('SERVER')\n",
    "database= env_variables.get('DATABASE')\n",
    "username= env_variables.get('USERNAME')\n",
    "password= env_variables.get('PASSWORD')"
   ]
  },
  {
   "cell_type": "code",
   "execution_count": 9,
   "metadata": {},
   "outputs": [],
   "source": [
    "# Setup connection string to connect to the remote server\n",
    "connection_string =pyodbc.connect(f'DRIVER={{SQL Server}};SERVER={server};DATABASE={database};UID={username};PWD={password}')"
   ]
  },
  {
   "cell_type": "code",
   "execution_count": 10,
   "metadata": {},
   "outputs": [],
   "source": [
    "# Query statement to fetch oil, holidays_events and stores data from the remote server\n",
    "oil_query = 'SELECT * FROM dbo.oil'\n",
    "holidays_query = 'SELECT * FROM dbo.holidays_events'\n",
    "stores_query = 'SELECT * FROM dbo.stores'"
   ]
  },
  {
   "cell_type": "code",
   "execution_count": 11,
   "metadata": {},
   "outputs": [],
   "source": [
    "# Redefine datatypes\n",
    "dtypes = {'id':'int64', 'store_nbr':'int8', 'onpromotion': str}"
   ]
  },
  {
   "cell_type": "code",
   "execution_count": null,
   "metadata": {},
   "outputs": [],
   "source": [
    "import os\n",
    "import requests\n",
    "import zipfile\n",
    "import pandas as pd\n",
    "\n",
    "# Function to download and extract the ZIP file\n",
    "def download_and_extract(url, local_file_path):\n",
    "    os.makedirs(os.path.dirname(local_file_path), exist_ok=True)\n",
    "    response = requests.get(url)\n",
    "    if response.status_code == 200:\n",
    "        with open(local_file_path, \"wb\") as f:\n",
    "            f.write(response.content)\n",
    "        print(\"File downloaded successfully\")\n",
    "        with zipfile.ZipFile(local_file_path, 'r') as zip_ref:\n",
    "            zip_ref.extractall(os.path.dirname(local_file_path))\n",
    "        print(\"File extracted successfully\")\n",
    "    else:\n",
    "        print(f\"Failed to download file. Status code: {response.status_code}\")\n",
    "\n",
    "# Function to compress a CSV file to GZIP format\n",
    "def compress_csv_to_gzip(input_file_path, output_file_path):\n",
    "    df = pd.read_csv(input_file_path)\n",
    "    df.to_csv(output_file_path, index=False, compression='gzip')\n",
    "    compressed_size_mb = os.path.getsize(output_file_path) / (1024 * 1024)\n",
    "    print(f\"Compressed file size: {compressed_size_mb:.2f} MB\")\n",
    "    print(f\"Compressed file saved to {output_file_path}\")\n",
    "\n",
    "# URL of the file to download\n",
    "url = \"https://github.com/codeayiku/Career_Accelerator_LP3-Regression/raw/main/store-sales-forecasting.zip\"\n",
    "# Local file path where the file will be saved\n",
    "local_file_path = '../Data/store-sales-forecasting.zip'\n",
    "\n",
    "# Download and extract the ZIP file\n",
    "download_and_extract(url, local_file_path)\n",
    "\n",
    "# Find the extracted train dataset\n",
    "extracted_dir = os.path.dirname(local_file_path)\n",
    "train_file_path = os.path.join(extracted_dir, 'train.csv')\n",
    "\n",
    "# Ensure the train file exists\n",
    "if not os.path.exists(train_file_path):\n",
    "    print(f\"Error: The file '{train_file_path}' does not exist.\")\n",
    "else:\n",
    "    # Path to save the compressed train dataset\n",
    "    compressed_train_file_path = os.path.join(extracted_dir, 'train.csv.gz')\n",
    "\n",
    "    # Compress the train dataset to GZIP format\n",
    "    compress_csv_to_gzip(train_file_path, compressed_train_file_path)\n"
   ]
  },
  {
   "cell_type": "code",
   "execution_count": 12,
   "metadata": {},
   "outputs": [],
   "source": [
    "# Connecting to the Dataset\n",
    "# Read all data from different sources\n",
    "# Read all data from different sources\n",
    "data_oil = pd.read_sql_query(oil_query, connection_string, parse_dates=['date'])\n",
    "df_holidays_events = pd.read_sql_query(holidays_query, connection_string, parse_dates=['date'], dtype={'transferred': str})\n",
    "df_stores = pd.read_sql_query(stores_query, connection_string)\n",
    "transactions = pd.read_csv('..\\\\data\\\\transactions.csv', parse_dates=['date'])\n",
    "df_train = pd.read_csv('..\\\\data\\\\train.csv', parse_dates=['date'], dtype=dtypes)\n",
    "df_test = pd.read_csv('..\\\\data\\\\test.csv', parse_dates=['date'], dtype=dtypes)\n"
   ]
  },
  {
   "cell_type": "markdown",
   "metadata": {},
   "source": [
    "#### **Inspecting Columns In Oil**"
   ]
  },
  {
   "cell_type": "code",
   "execution_count": 13,
   "metadata": {},
   "outputs": [
    {
     "data": {
      "text/html": [
       "<div>\n",
       "<style scoped>\n",
       "    .dataframe tbody tr th:only-of-type {\n",
       "        vertical-align: middle;\n",
       "    }\n",
       "\n",
       "    .dataframe tbody tr th {\n",
       "        vertical-align: top;\n",
       "    }\n",
       "\n",
       "    .dataframe thead th {\n",
       "        text-align: right;\n",
       "    }\n",
       "</style>\n",
       "<table border=\"1\" class=\"dataframe\">\n",
       "  <thead>\n",
       "    <tr style=\"text-align: right;\">\n",
       "      <th></th>\n",
       "      <th>date</th>\n",
       "      <th>dcoilwtico</th>\n",
       "    </tr>\n",
       "  </thead>\n",
       "  <tbody>\n",
       "    <tr>\n",
       "      <th>0</th>\n",
       "      <td>2013-01-01</td>\n",
       "      <td>NaN</td>\n",
       "    </tr>\n",
       "    <tr>\n",
       "      <th>1</th>\n",
       "      <td>2013-01-02</td>\n",
       "      <td>93.139999</td>\n",
       "    </tr>\n",
       "    <tr>\n",
       "      <th>2</th>\n",
       "      <td>2013-01-03</td>\n",
       "      <td>92.970001</td>\n",
       "    </tr>\n",
       "    <tr>\n",
       "      <th>3</th>\n",
       "      <td>2013-01-04</td>\n",
       "      <td>93.120003</td>\n",
       "    </tr>\n",
       "    <tr>\n",
       "      <th>4</th>\n",
       "      <td>2013-01-07</td>\n",
       "      <td>93.199997</td>\n",
       "    </tr>\n",
       "  </tbody>\n",
       "</table>\n",
       "</div>"
      ],
      "text/plain": [
       "        date  dcoilwtico\n",
       "0 2013-01-01         NaN\n",
       "1 2013-01-02   93.139999\n",
       "2 2013-01-03   92.970001\n",
       "3 2013-01-04   93.120003\n",
       "4 2013-01-07   93.199997"
      ]
     },
     "execution_count": 13,
     "metadata": {},
     "output_type": "execute_result"
    }
   ],
   "source": [
    "data_oil.head()"
   ]
  },
  {
   "cell_type": "code",
   "execution_count": 14,
   "metadata": {},
   "outputs": [
    {
     "name": "stdout",
     "output_type": "stream",
     "text": [
      "<class 'pandas.core.frame.DataFrame'>\n",
      "RangeIndex: 1218 entries, 0 to 1217\n",
      "Data columns (total 2 columns):\n",
      " #   Column      Non-Null Count  Dtype         \n",
      "---  ------      --------------  -----         \n",
      " 0   date        1218 non-null   datetime64[ns]\n",
      " 1   dcoilwtico  1175 non-null   float64       \n",
      "dtypes: datetime64[ns](1), float64(1)\n",
      "memory usage: 19.2 KB\n"
     ]
    }
   ],
   "source": [
    "data_oil.info()"
   ]
  },
  {
   "cell_type": "code",
   "execution_count": 15,
   "metadata": {},
   "outputs": [
    {
     "data": {
      "text/plain": [
       "(1218, 2)"
      ]
     },
     "execution_count": 15,
     "metadata": {},
     "output_type": "execute_result"
    }
   ],
   "source": [
    "data_oil.shape"
   ]
  },
  {
   "cell_type": "code",
   "execution_count": 16,
   "metadata": {},
   "outputs": [
    {
     "data": {
      "text/plain": [
       "date           0\n",
       "dcoilwtico    43\n",
       "dtype: int64"
      ]
     },
     "execution_count": 16,
     "metadata": {},
     "output_type": "execute_result"
    }
   ],
   "source": [
    "data_oil.isnull().sum()"
   ]
  },
  {
   "cell_type": "code",
   "execution_count": 17,
   "metadata": {},
   "outputs": [
    {
     "data": {
      "text/plain": [
       "np.int64(0)"
      ]
     },
     "execution_count": 17,
     "metadata": {},
     "output_type": "execute_result"
    }
   ],
   "source": [
    "data_oil.duplicated().sum()"
   ]
  },
  {
   "cell_type": "markdown",
   "metadata": {},
   "source": [
    "#### **Inspecting Columns In Holiday**"
   ]
  },
  {
   "cell_type": "code",
   "execution_count": 18,
   "metadata": {},
   "outputs": [
    {
     "data": {
      "text/html": [
       "<div>\n",
       "<style scoped>\n",
       "    .dataframe tbody tr th:only-of-type {\n",
       "        vertical-align: middle;\n",
       "    }\n",
       "\n",
       "    .dataframe tbody tr th {\n",
       "        vertical-align: top;\n",
       "    }\n",
       "\n",
       "    .dataframe thead th {\n",
       "        text-align: right;\n",
       "    }\n",
       "</style>\n",
       "<table border=\"1\" class=\"dataframe\">\n",
       "  <thead>\n",
       "    <tr style=\"text-align: right;\">\n",
       "      <th></th>\n",
       "      <th>date</th>\n",
       "      <th>type</th>\n",
       "      <th>locale</th>\n",
       "      <th>locale_name</th>\n",
       "      <th>description</th>\n",
       "      <th>transferred</th>\n",
       "    </tr>\n",
       "  </thead>\n",
       "  <tbody>\n",
       "    <tr>\n",
       "      <th>0</th>\n",
       "      <td>2012-03-02</td>\n",
       "      <td>Holiday</td>\n",
       "      <td>Local</td>\n",
       "      <td>Manta</td>\n",
       "      <td>Fundacion de Manta</td>\n",
       "      <td>False</td>\n",
       "    </tr>\n",
       "    <tr>\n",
       "      <th>1</th>\n",
       "      <td>2012-04-01</td>\n",
       "      <td>Holiday</td>\n",
       "      <td>Regional</td>\n",
       "      <td>Cotopaxi</td>\n",
       "      <td>Provincializacion de Cotopaxi</td>\n",
       "      <td>False</td>\n",
       "    </tr>\n",
       "    <tr>\n",
       "      <th>2</th>\n",
       "      <td>2012-04-12</td>\n",
       "      <td>Holiday</td>\n",
       "      <td>Local</td>\n",
       "      <td>Cuenca</td>\n",
       "      <td>Fundacion de Cuenca</td>\n",
       "      <td>False</td>\n",
       "    </tr>\n",
       "    <tr>\n",
       "      <th>3</th>\n",
       "      <td>2012-04-14</td>\n",
       "      <td>Holiday</td>\n",
       "      <td>Local</td>\n",
       "      <td>Libertad</td>\n",
       "      <td>Cantonizacion de Libertad</td>\n",
       "      <td>False</td>\n",
       "    </tr>\n",
       "    <tr>\n",
       "      <th>4</th>\n",
       "      <td>2012-04-21</td>\n",
       "      <td>Holiday</td>\n",
       "      <td>Local</td>\n",
       "      <td>Riobamba</td>\n",
       "      <td>Cantonizacion de Riobamba</td>\n",
       "      <td>False</td>\n",
       "    </tr>\n",
       "  </tbody>\n",
       "</table>\n",
       "</div>"
      ],
      "text/plain": [
       "        date     type    locale locale_name                    description  \\\n",
       "0 2012-03-02  Holiday     Local       Manta             Fundacion de Manta   \n",
       "1 2012-04-01  Holiday  Regional    Cotopaxi  Provincializacion de Cotopaxi   \n",
       "2 2012-04-12  Holiday     Local      Cuenca            Fundacion de Cuenca   \n",
       "3 2012-04-14  Holiday     Local    Libertad      Cantonizacion de Libertad   \n",
       "4 2012-04-21  Holiday     Local    Riobamba      Cantonizacion de Riobamba   \n",
       "\n",
       "  transferred  \n",
       "0       False  \n",
       "1       False  \n",
       "2       False  \n",
       "3       False  \n",
       "4       False  "
      ]
     },
     "execution_count": 18,
     "metadata": {},
     "output_type": "execute_result"
    }
   ],
   "source": [
    "df_holidays_events.head()\n"
   ]
  },
  {
   "cell_type": "code",
   "execution_count": 19,
   "metadata": {},
   "outputs": [
    {
     "name": "stdout",
     "output_type": "stream",
     "text": [
      "<class 'pandas.core.frame.DataFrame'>\n",
      "RangeIndex: 350 entries, 0 to 349\n",
      "Data columns (total 6 columns):\n",
      " #   Column       Non-Null Count  Dtype         \n",
      "---  ------       --------------  -----         \n",
      " 0   date         350 non-null    datetime64[ns]\n",
      " 1   type         350 non-null    object        \n",
      " 2   locale       350 non-null    object        \n",
      " 3   locale_name  350 non-null    object        \n",
      " 4   description  350 non-null    object        \n",
      " 5   transferred  350 non-null    object        \n",
      "dtypes: datetime64[ns](1), object(5)\n",
      "memory usage: 16.5+ KB\n"
     ]
    }
   ],
   "source": [
    "df_holidays_events.info()"
   ]
  },
  {
   "cell_type": "code",
   "execution_count": 20,
   "metadata": {},
   "outputs": [
    {
     "data": {
      "text/plain": [
       "(350, 6)"
      ]
     },
     "execution_count": 20,
     "metadata": {},
     "output_type": "execute_result"
    }
   ],
   "source": [
    "df_holidays_events.shape"
   ]
  },
  {
   "cell_type": "code",
   "execution_count": 21,
   "metadata": {},
   "outputs": [
    {
     "data": {
      "text/plain": [
       "date           0\n",
       "type           0\n",
       "locale         0\n",
       "locale_name    0\n",
       "description    0\n",
       "transferred    0\n",
       "dtype: int64"
      ]
     },
     "execution_count": 21,
     "metadata": {},
     "output_type": "execute_result"
    }
   ],
   "source": [
    "df_holidays_events.isnull().sum()"
   ]
  },
  {
   "cell_type": "code",
   "execution_count": 22,
   "metadata": {},
   "outputs": [
    {
     "data": {
      "text/plain": [
       "np.int64(0)"
      ]
     },
     "execution_count": 22,
     "metadata": {},
     "output_type": "execute_result"
    }
   ],
   "source": [
    "df_holidays_events.duplicated().sum()"
   ]
  },
  {
   "cell_type": "markdown",
   "metadata": {},
   "source": [
    "#### **Inspecting Columns In Stores**"
   ]
  },
  {
   "cell_type": "code",
   "execution_count": 23,
   "metadata": {},
   "outputs": [
    {
     "data": {
      "text/html": [
       "<div>\n",
       "<style scoped>\n",
       "    .dataframe tbody tr th:only-of-type {\n",
       "        vertical-align: middle;\n",
       "    }\n",
       "\n",
       "    .dataframe tbody tr th {\n",
       "        vertical-align: top;\n",
       "    }\n",
       "\n",
       "    .dataframe thead th {\n",
       "        text-align: right;\n",
       "    }\n",
       "</style>\n",
       "<table border=\"1\" class=\"dataframe\">\n",
       "  <thead>\n",
       "    <tr style=\"text-align: right;\">\n",
       "      <th></th>\n",
       "      <th>store_nbr</th>\n",
       "      <th>city</th>\n",
       "      <th>state</th>\n",
       "      <th>type</th>\n",
       "      <th>cluster</th>\n",
       "    </tr>\n",
       "  </thead>\n",
       "  <tbody>\n",
       "    <tr>\n",
       "      <th>0</th>\n",
       "      <td>1</td>\n",
       "      <td>Quito</td>\n",
       "      <td>Pichincha</td>\n",
       "      <td>D</td>\n",
       "      <td>13</td>\n",
       "    </tr>\n",
       "    <tr>\n",
       "      <th>1</th>\n",
       "      <td>2</td>\n",
       "      <td>Quito</td>\n",
       "      <td>Pichincha</td>\n",
       "      <td>D</td>\n",
       "      <td>13</td>\n",
       "    </tr>\n",
       "    <tr>\n",
       "      <th>2</th>\n",
       "      <td>3</td>\n",
       "      <td>Quito</td>\n",
       "      <td>Pichincha</td>\n",
       "      <td>D</td>\n",
       "      <td>8</td>\n",
       "    </tr>\n",
       "    <tr>\n",
       "      <th>3</th>\n",
       "      <td>4</td>\n",
       "      <td>Quito</td>\n",
       "      <td>Pichincha</td>\n",
       "      <td>D</td>\n",
       "      <td>9</td>\n",
       "    </tr>\n",
       "    <tr>\n",
       "      <th>4</th>\n",
       "      <td>5</td>\n",
       "      <td>Santo Domingo</td>\n",
       "      <td>Santo Domingo de los Tsachilas</td>\n",
       "      <td>D</td>\n",
       "      <td>4</td>\n",
       "    </tr>\n",
       "  </tbody>\n",
       "</table>\n",
       "</div>"
      ],
      "text/plain": [
       "   store_nbr           city                           state type  cluster\n",
       "0          1          Quito                       Pichincha    D       13\n",
       "1          2          Quito                       Pichincha    D       13\n",
       "2          3          Quito                       Pichincha    D        8\n",
       "3          4          Quito                       Pichincha    D        9\n",
       "4          5  Santo Domingo  Santo Domingo de los Tsachilas    D        4"
      ]
     },
     "execution_count": 23,
     "metadata": {},
     "output_type": "execute_result"
    }
   ],
   "source": [
    "df_stores.head()"
   ]
  },
  {
   "cell_type": "code",
   "execution_count": 24,
   "metadata": {},
   "outputs": [
    {
     "name": "stdout",
     "output_type": "stream",
     "text": [
      "<class 'pandas.core.frame.DataFrame'>\n",
      "RangeIndex: 54 entries, 0 to 53\n",
      "Data columns (total 5 columns):\n",
      " #   Column     Non-Null Count  Dtype \n",
      "---  ------     --------------  ----- \n",
      " 0   store_nbr  54 non-null     int64 \n",
      " 1   city       54 non-null     object\n",
      " 2   state      54 non-null     object\n",
      " 3   type       54 non-null     object\n",
      " 4   cluster    54 non-null     int64 \n",
      "dtypes: int64(2), object(3)\n",
      "memory usage: 2.2+ KB\n"
     ]
    }
   ],
   "source": [
    "df_stores.info()"
   ]
  },
  {
   "cell_type": "code",
   "execution_count": 25,
   "metadata": {},
   "outputs": [
    {
     "data": {
      "text/plain": [
       "(54, 5)"
      ]
     },
     "execution_count": 25,
     "metadata": {},
     "output_type": "execute_result"
    }
   ],
   "source": [
    "df_stores.shape"
   ]
  },
  {
   "cell_type": "code",
   "execution_count": 26,
   "metadata": {},
   "outputs": [
    {
     "data": {
      "text/plain": [
       "store_nbr    0\n",
       "city         0\n",
       "state        0\n",
       "type         0\n",
       "cluster      0\n",
       "dtype: int64"
      ]
     },
     "execution_count": 26,
     "metadata": {},
     "output_type": "execute_result"
    }
   ],
   "source": [
    "df_stores.isnull().sum()"
   ]
  },
  {
   "cell_type": "code",
   "execution_count": 27,
   "metadata": {},
   "outputs": [
    {
     "data": {
      "text/plain": [
       "np.int64(0)"
      ]
     },
     "execution_count": 27,
     "metadata": {},
     "output_type": "execute_result"
    }
   ],
   "source": [
    "df_stores.duplicated().sum()"
   ]
  },
  {
   "cell_type": "markdown",
   "metadata": {},
   "source": [
    "#### **UNIQUE VALUES**"
   ]
  },
  {
   "cell_type": "code",
   "execution_count": 28,
   "metadata": {},
   "outputs": [
    {
     "name": "stdout",
     "output_type": "stream",
     "text": [
      "Unique values in df_stores:\n",
      "store_nbr\n",
      "There are 54 unique values\n",
      "[ 1  2  3  4  5  6  7  8  9 10 11 12 13 14 15 16 17 18 19 20 21 22 23 24\n",
      " 25 26 27 28 29 30 31 32 33 34 35 36 37 38 39 40 41 42 43 44 45 46 47 48\n",
      " 49 50 51 52 53 54]\n",
      "==================================================\n",
      "city\n",
      "There are 22 unique values\n",
      "['Quito' 'Santo Domingo' 'Cayambe' 'Latacunga' 'Riobamba' 'Ibarra'\n",
      " 'Guaranda' 'Puyo' 'Ambato' 'Guayaquil' 'Salinas' 'Daule' 'Babahoyo'\n",
      " 'Quevedo' 'Playas' 'Libertad' 'Cuenca' 'Loja' 'Machala' 'Esmeraldas'\n",
      " 'Manta' 'El Carmen']\n",
      "==================================================\n",
      "state\n",
      "There are 16 unique values\n",
      "['Pichincha' 'Santo Domingo de los Tsachilas' 'Cotopaxi' 'Chimborazo'\n",
      " 'Imbabura' 'Bolivar' 'Pastaza' 'Tungurahua' 'Guayas' 'Santa Elena'\n",
      " 'Los Rios' 'Azuay' 'Loja' 'El Oro' 'Esmeraldas' 'Manabi']\n",
      "==================================================\n",
      "type\n",
      "There are 5 unique values\n",
      "['D' 'B' 'C' 'E' 'A']\n",
      "==================================================\n",
      "cluster\n",
      "There are 17 unique values\n",
      "[13  8  9  4  6 15  7  3 12 16  1 10  2  5 11 14 17]\n",
      "==================================================\n",
      "\n",
      "\n",
      "Unique values in df_holidays_events:\n",
      "date\n",
      "There are 312 unique values\n",
      "<DatetimeArray>\n",
      "['2012-03-02 00:00:00', '2012-04-01 00:00:00', '2012-04-12 00:00:00',\n",
      " '2012-04-14 00:00:00', '2012-04-21 00:00:00', '2012-05-12 00:00:00',\n",
      " '2012-06-23 00:00:00', '2012-06-25 00:00:00', '2012-07-03 00:00:00',\n",
      " '2012-07-23 00:00:00',\n",
      " ...\n",
      " '2017-11-12 00:00:00', '2017-12-05 00:00:00', '2017-12-06 00:00:00',\n",
      " '2017-12-08 00:00:00', '2017-12-21 00:00:00', '2017-12-22 00:00:00',\n",
      " '2017-12-23 00:00:00', '2017-12-24 00:00:00', '2017-12-25 00:00:00',\n",
      " '2017-12-26 00:00:00']\n",
      "Length: 312, dtype: datetime64[ns]\n",
      "==================================================\n",
      "type\n",
      "There are 6 unique values\n",
      "['Holiday' 'Transfer' 'Additional' 'Bridge' 'Work Day' 'Event']\n",
      "==================================================\n",
      "locale\n",
      "There are 3 unique values\n",
      "['Local' 'Regional' 'National']\n",
      "==================================================\n",
      "locale_name\n",
      "There are 24 unique values\n",
      "['Manta' 'Cotopaxi' 'Cuenca' 'Libertad' 'Riobamba' 'Puyo' 'Guaranda'\n",
      " 'Imbabura' 'Latacunga' 'Machala' 'Santo Domingo' 'El Carmen' 'Cayambe'\n",
      " 'Esmeraldas' 'Ecuador' 'Ambato' 'Ibarra' 'Quevedo'\n",
      " 'Santo Domingo de los Tsachilas' 'Santa Elena' 'Quito' 'Loja' 'Salinas'\n",
      " 'Guayaquil']\n",
      "==================================================\n",
      "description\n",
      "There are 103 unique values\n",
      "['Fundacion de Manta' 'Provincializacion de Cotopaxi'\n",
      " 'Fundacion de Cuenca' 'Cantonizacion de Libertad'\n",
      " 'Cantonizacion de Riobamba' 'Cantonizacion del Puyo'\n",
      " 'Cantonizacion de Guaranda' 'Provincializacion de Imbabura'\n",
      " 'Cantonizacion de Latacunga' 'Fundacion de Machala'\n",
      " 'Fundacion de Santo Domingo' 'Cantonizacion de El Carmen'\n",
      " 'Cantonizacion de Cayambe' 'Fundacion de Esmeraldas'\n",
      " 'Primer Grito de Independencia' 'Fundacion de Riobamba'\n",
      " 'Fundacion de Ambato' 'Fundacion de Ibarra' 'Cantonizacion de Quevedo'\n",
      " 'Independencia de Guayaquil' 'Traslado Independencia de Guayaquil'\n",
      " 'Dia de Difuntos' 'Independencia de Cuenca'\n",
      " 'Provincializacion de Santo Domingo' 'Provincializacion Santa Elena'\n",
      " 'Independencia de Guaranda' 'Independencia de Latacunga'\n",
      " 'Independencia de Ambato' 'Fundacion de Quito-1' 'Fundacion de Quito'\n",
      " 'Fundacion de Loja' 'Navidad-4' 'Cantonizacion de Salinas' 'Navidad-3'\n",
      " 'Navidad-2' 'Puente Navidad' 'Navidad-1' 'Navidad' 'Navidad+1'\n",
      " 'Puente Primer dia del ano' 'Primer dia del ano-1' 'Primer dia del ano'\n",
      " 'Recupero puente Navidad' 'Recupero puente primer dia del ano' 'Carnaval'\n",
      " 'Viernes Santo' 'Dia del Trabajo' 'Dia de la Madre-1' 'Dia de la Madre'\n",
      " 'Batalla de Pichincha' 'Fundacion de Guayaquil-1'\n",
      " 'Fundacion de Guayaquil' 'Inauguracion Mundial de futbol Brasil'\n",
      " 'Mundial de futbol Brasil: Ecuador-Suiza'\n",
      " 'Mundial de futbol Brasil: Ecuador-Honduras'\n",
      " 'Mundial de futbol Brasil: Ecuador-Francia'\n",
      " 'Mundial de futbol Brasil: Octavos de Final'\n",
      " 'Mundial de futbol Brasil: Cuartos de Final'\n",
      " 'Mundial de futbol Brasil: Semifinales'\n",
      " 'Mundial de futbol Brasil: Tercer y cuarto lugar'\n",
      " 'Mundial de futbol Brasil: Final' 'Black Friday' 'Cyber Monday'\n",
      " 'Recupero Puente Navidad' 'Recupero Puente Primer dia del ano'\n",
      " 'Terremoto Manabi' 'Terremoto Manabi+1' 'Terremoto Manabi+2'\n",
      " 'Terremoto Manabi+3' 'Terremoto Manabi+4' 'Terremoto Manabi+5'\n",
      " 'Terremoto Manabi+6' 'Terremoto Manabi+7' 'Terremoto Manabi+8'\n",
      " 'Terremoto Manabi+9' 'Terremoto Manabi+10' 'Terremoto Manabi+11'\n",
      " 'Terremoto Manabi+12' 'Terremoto Manabi+13' 'Terremoto Manabi+14'\n",
      " 'Terremoto Manabi+15' 'Terremoto Manabi+16' 'Terremoto Manabi+17'\n",
      " 'Terremoto Manabi+18' 'Terremoto Manabi+19' 'Terremoto Manabi+20'\n",
      " 'Terremoto Manabi+21' 'Terremoto Manabi+22' 'Terremoto Manabi+23'\n",
      " 'Terremoto Manabi+24' 'Terremoto Manabi+25' 'Terremoto Manabi+26'\n",
      " 'Terremoto Manabi+27' 'Terremoto Manabi+28' 'Terremoto Manabi+29'\n",
      " 'Terremoto Manabi+30' 'Traslado Batalla de Pichincha'\n",
      " 'Traslado Fundacion de Guayaquil'\n",
      " 'Traslado Primer Grito de Independencia' 'Puente Dia de Difuntos'\n",
      " 'Recupero Puente Dia de Difuntos' 'Traslado Primer dia del ano'\n",
      " 'Traslado Fundacion de Quito']\n",
      "==================================================\n",
      "transferred\n",
      "There are 2 unique values\n",
      "['False' 'True']\n",
      "==================================================\n",
      "\n",
      "\n",
      "Unique values in data_oil:\n",
      "date\n",
      "There are 1218 unique values\n",
      "<DatetimeArray>\n",
      "['2013-01-01 00:00:00', '2013-01-02 00:00:00', '2013-01-03 00:00:00',\n",
      " '2013-01-04 00:00:00', '2013-01-07 00:00:00', '2013-01-08 00:00:00',\n",
      " '2013-01-09 00:00:00', '2013-01-10 00:00:00', '2013-01-11 00:00:00',\n",
      " '2013-01-14 00:00:00',\n",
      " ...\n",
      " '2017-08-18 00:00:00', '2017-08-21 00:00:00', '2017-08-22 00:00:00',\n",
      " '2017-08-23 00:00:00', '2017-08-24 00:00:00', '2017-08-25 00:00:00',\n",
      " '2017-08-28 00:00:00', '2017-08-29 00:00:00', '2017-08-30 00:00:00',\n",
      " '2017-08-31 00:00:00']\n",
      "Length: 1218, dtype: datetime64[ns]\n",
      "==================================================\n",
      "dcoilwtico\n",
      "There are 999 unique values\n",
      "[         nan  93.13999939  92.97000122  93.12000275  93.19999695\n",
      "  93.20999908  93.08000183  93.80999756  93.59999847  94.26999664\n",
      "  93.26000214  94.27999878  95.48999786  95.61000061  96.08999634\n",
      "  95.05999756  95.34999847  95.15000153  95.94999695  97.62000275\n",
      "  97.98000336  97.65000153  97.45999908  96.20999908  96.68000031\n",
      "  96.44000244  95.83999634  95.70999908  97.01000214  97.48000336\n",
      "  97.02999878  97.30000305  96.69000244  94.91999817  92.79000092\n",
      "  92.73999786  92.62999725  92.83999634  92.02999878  90.70999908\n",
      "  90.12999725  90.87999725  90.47000122  91.52999878  92.01000214\n",
      "  92.06999969  92.44000244  92.47000122  93.02999878  93.48999786\n",
      "  93.70999908  92.45999908  93.41000366  94.55000305  95.98999786\n",
      "  96.52999878  97.23999786  97.09999847  97.23000336  95.01999664\n",
      "  92.76000214  93.36000061  94.18000031  94.58999634  93.44000244\n",
      "  91.23000336  88.75        88.73000336  86.65000153  87.83000183\n",
      "  88.04000092  88.80999756  89.20999908  91.06999969  93.26999664\n",
      "  94.08999634  93.22000122  90.73999786  93.69999695  95.25\n",
      "  95.80000305  95.27999878  96.23999786  95.80999756  94.76000214\n",
      "  93.95999908  93.94999695  94.84999847  95.72000122  96.29000092\n",
      "  95.55000305  93.98000336  94.12000275  93.83999634  94.65000153\n",
      "  93.12999725  93.56999969  91.93000031  93.66000366  94.70999908\n",
      "  96.11000061  95.81999969  95.5         95.98000336  96.66000366\n",
      "  97.83000183  97.86000061  98.45999908  98.23999786  94.88999939\n",
      "  95.06999969  95.47000122  97.          96.36000061  97.94000244\n",
      "  99.65000153 101.91999817 103.08999634 103.02999878 103.45999908\n",
      " 106.41000366 104.76999664 105.84999847 106.19999695 105.87999725\n",
      " 106.38999939 107.94000244 108.         106.61000061 107.12999725\n",
      " 105.41000366 105.47000122 104.76000214 104.61000061 103.13999939\n",
      " 105.09999847 107.93000031 106.94000244 105.31999969 104.41000366\n",
      " 103.44999695 106.04000092 106.19000244 106.77999878 106.88999939\n",
      " 107.43000031 107.58000183 107.13999939 104.90000153 103.93000031\n",
      " 104.93000031 106.48000336 109.11000061 110.16999817 108.51000214\n",
      " 107.98000336 108.66999817 107.29000092 108.5        110.62000275\n",
      " 109.62000275 107.48000336 107.65000153 108.72000122 108.30999756\n",
      " 106.54000092 105.36000061 108.23000336 106.26000214 104.69999695\n",
      " 103.62000275 103.22000122 102.68000031 103.09999847 102.86000061\n",
      " 102.36000061 102.08999634 104.15000153 103.29000092 103.83000183\n",
      " 103.06999969 103.54000092 101.62999725 103.08000183 102.16999817\n",
      " 102.45999908 101.15000153 102.33999634 100.72000122 100.87000275\n",
      "  99.27999878  97.62999725  96.90000153  96.65000153  97.40000153\n",
      "  98.73999786  98.29000092  96.80999756  94.55999756  94.58000183\n",
      "  93.40000153  94.73999786  94.25        95.12999725  93.91000366\n",
      "  93.76000214  93.80000305  93.34999847  93.33999634  94.52999878\n",
      "  93.86000061  92.05000305  92.55000305  93.61000061  95.83000183\n",
      "  96.97000122  97.13999939  98.31999969  97.25        97.20999908\n",
      "  96.26999664  97.18000031  96.98999786  97.58999634  98.40000153\n",
      "  99.11000061  98.62000275  98.87000275  99.18000031  99.94000244\n",
      "  98.90000153  98.16999817  95.13999939  93.30999756  91.90000153\n",
      "  91.36000061  92.38999939  91.44999695  92.15000153  93.77999878\n",
      "  93.54000092  94.51000214  96.34999847  97.48999786  97.33999634\n",
      "  98.25        97.55000305  97.83999634  99.98000336 100.12000275\n",
      "  99.95999908 100.37999725 100.26999664 100.30999756 102.54000092\n",
      " 103.19999695 102.52999878 103.16999817 102.19999695 102.93000031\n",
      " 102.87999725 105.33999634 103.63999939 101.75       101.81999969\n",
      " 102.81999969 101.38999939 100.29000092  98.56999969  99.23000336\n",
      "  98.43000031 100.08000183 100.70999908  99.68000031  99.97000122\n",
      " 100.05000305  99.66000366 100.61000061 101.25       101.73000336\n",
      " 101.56999969  99.69000244  99.59999847 101.16000366 100.43000031\n",
      " 102.56999969 103.55000305 103.37000275 103.68000031 104.05000305\n",
      " 103.69999695 103.70999908 104.33000183 104.34999847 101.69000244\n",
      " 101.47000122 100.84999847 101.12999725 101.55999756 100.06999969\n",
      " 100.08999634  99.73999786  99.80999756 101.05999756 100.51999664\n",
      " 100.31999969 100.88999939 102.01000214 102.62999725 101.73999786\n",
      " 102.30999756 102.94999695 102.80000305 104.30999756 104.02999878\n",
      " 105.01000214 104.77999878 104.26000214 103.40000153 103.33999634\n",
      " 103.26999664 103.31999969 105.08999634 105.01999664 105.04000092\n",
      " 107.19999695 107.48999786 107.51999664 106.94999695 106.63999939\n",
      " 107.08000183 107.94999695 106.83000183 107.04000092 106.48999786\n",
      " 106.45999908 106.06999969 106.05999756 105.18000031 104.19000244\n",
      " 104.05999756 103.61000061 101.48000336 100.55999756 101.87999725\n",
      " 103.83999634 104.58999634 103.80999756 102.76000214 105.23000336\n",
      " 105.68000031 104.91000366 104.29000092  98.23000336  98.26000214\n",
      "  96.93000031  97.61000061  98.08999634  97.36000061  97.56999969\n",
      "  95.54000092  94.34999847  96.40000153  93.97000122  95.38999939\n",
      "  95.77999878  92.91999817  93.31999969  92.63999939  92.73000336\n",
      "  91.70999908  92.88999939  92.18000031  92.86000061  94.91000366\n",
      "  94.33000183  93.06999969  92.43000031  91.45999908  91.55000305\n",
      "  93.58999634  91.16999817  91.01999664  89.76000214  90.33000183\n",
      "  88.88999939  87.29000092  85.76000214  85.87000275  85.73000336\n",
      "  81.72000122  81.81999969  82.33000183  82.80000305  82.76000214\n",
      "  83.25        80.51999664  82.80999756  81.26999664  81.26000214\n",
      "  81.36000061  82.25        81.05999756  80.52999878  78.76999664\n",
      "  77.15000153  78.70999908  77.87000275  77.43000031  77.84999847\n",
      "  77.16000366  74.12999725  75.91000366  75.63999939  74.55000305\n",
      "  75.62999725  76.51999664  75.73999786  74.04000092  73.69999695\n",
      "  65.94000244  68.98000336  66.98999786  67.30000305  66.73000336\n",
      "  65.88999939  63.13000107  63.74000168  60.99000168  60.00999832\n",
      "  57.81000137  55.95999908  55.97000122  56.43000031  54.18000031\n",
      "  56.90999985  55.25        56.77999878  55.70000076  54.59000015\n",
      "  53.45999908  54.13999939  53.45000076  52.72000122  50.04999924\n",
      "  47.97999954  48.68999863  48.79999924  48.34999847  46.06000137\n",
      "  45.91999817  48.49000168  46.36999893  46.79000092  47.84999847\n",
      "  45.93000031  45.25999832  44.79999924  45.84000015  44.08000183\n",
      "  44.11999893  47.79000092  49.25        53.04000092  48.45000076\n",
      "  50.47999954  51.65999985  52.99000168  50.06000137  51.16999817\n",
      "  52.65999985  53.56000137  52.13000107  51.11999893  49.95000076\n",
      "  49.56000137  48.47999954  50.25        47.65000153  49.84000015\n",
      "  49.59000015  50.43000031  51.52999878  50.75999832  49.61000061\n",
      "  48.41999817  48.06000137  47.11999893  44.88000107  43.93000031\n",
      "  43.38999939  44.63000107  44.02000046  46.          47.40000153\n",
      "  47.02999878  48.75        51.40999985  48.83000183  48.65999985\n",
      "  47.72000122  50.11999893  49.13000107  52.08000183  53.95000076\n",
      "  50.43999863  50.79000092  51.63000107  51.95000076  53.29999924\n",
      "  56.25        56.68999863  55.70999908  56.36999893  55.58000183\n",
      "  56.16999817  56.59000015  55.97999954  55.56000137  57.04999924\n",
      "  58.54999924  59.61999893  59.09999847  58.91999817  60.38000107\n",
      "  60.93000031  58.99000168  59.40999985  59.22999954  60.72000122\n",
      "  60.5         59.88999939  59.72999954  59.43999863  57.29999924\n",
      "  58.95999908  60.18000031  58.88000107  57.29000092  57.50999832\n",
      "  57.68999863  60.25        60.24000168  61.29999924  59.66999817\n",
      "  58.          59.11000061  58.15000153  60.15000153  61.36000061\n",
      "  60.74000168  59.95999908  59.52999878  60.40999985  61.04999924\n",
      "  59.59000015  58.34000015  59.47999954  56.93999863  56.93000031\n",
      "  52.47999954  52.33000183  51.61000061  52.75999832  52.74000168\n",
      "  52.18999863  53.04999924  51.40000153  50.90000153  50.88000107\n",
      "  50.11000061  50.59000015  49.27000046  48.11000061  47.16999817\n",
      "  47.97000122  48.77000046  48.52999878  47.11000061  45.25\n",
      "  45.75        45.13000107  44.68999863  43.86999893  44.93999863\n",
      "  43.11000061  43.22000122  42.27000046  42.45000076  41.93000031\n",
      "  42.58000183  40.75        41.          40.45000076  38.22000122\n",
      "  39.15000153  38.5         42.47000122  45.29000092  49.20000076\n",
      "  45.38000107  46.29999924  46.75        46.02000046  44.13000107\n",
      "  45.84999847  44.75        44.06999969  44.58000183  46.93000031\n",
      "  44.70999908  46.66999817  46.16999817  44.52999878  45.54999924\n",
      "  44.40000153  45.24000168  45.06000137  45.54000092  46.27999878\n",
      "  47.86000061  49.45999908  49.66999817  47.09000015  46.70000076\n",
      "  46.63000107  46.38000107  47.29999924  45.90999985  45.22000122\n",
      "  44.90000153  43.90999985  43.18999863  43.20999908  46.59999847\n",
      "  46.11999893  47.88000107  46.31999969  45.27000046  44.31999969\n",
      "  44.22999954  42.95000076  41.74000168  40.68999863  41.68000031\n",
      "  40.72999954  40.54999924  39.38999939  39.27000046  40.88999939\n",
      "  41.22000122  40.56999969  40.43000031  40.58000183  39.93000031\n",
      "  41.08000183  40.          37.63999939  37.45999908  37.15999985\n",
      "  36.75999832  35.65000153  36.31000137  37.31999969  35.54999924\n",
      "  34.97999954  34.72000122  34.54999924  36.11999893  37.61999893\n",
      "  36.36000061  37.88000107  36.59000015  37.13000107  36.81000137\n",
      "  35.97000122  33.97000122  33.29000092  33.20000076  31.42000008\n",
      "  30.42000008  31.21999931  29.45000076  28.46999931  26.68000031\n",
      "  29.54999924  32.06999969  30.30999947  29.54000092  32.31999969\n",
      "  33.20999908  33.65999985  31.62000084  29.89999962  32.29000092\n",
      "  31.62999916  30.86000061  29.70999908  27.95999908  27.54000092\n",
      "  26.19000053  29.31999969  29.04999924  30.68000031  30.77000046\n",
      "  29.59000015  31.37000084  31.84000015  30.35000038  31.39999962\n",
      "  31.64999962  32.74000168  34.38999939  34.56999969  34.56000137\n",
      "  35.90999985  37.90000153  36.66999817  37.77000046  38.50999832\n",
      "  37.20000076  36.31999969  38.43000031  40.16999817  39.47000122\n",
      "  39.90999985  41.45000076  38.27999878  38.13999939  37.99000168\n",
      "  36.90999985  36.93999863  35.36000061  34.29999924  34.52000046\n",
      "  37.74000168  37.29999924  39.74000168  40.45999908  42.11999893\n",
      "  41.70000076  40.40000153  40.88000107  42.72000122  43.18000031\n",
      "  42.75999832  41.66999817  42.52000046  46.02999878  45.97999954\n",
      "  43.65000153  43.77000046  44.33000183  43.45000076  44.68000031\n",
      "  46.20999908  46.63999939  46.22000122  48.29000092  48.11999893\n",
      "  48.15999985  47.66999817  48.04000092  49.09999847  49.\n",
      "  49.36000061  49.06999969  49.13999939  49.70999908  50.36999893\n",
      "  51.22999954  50.52000046  49.09000015  48.88999939  47.91999817\n",
      "  46.13999939  48.          49.40000153  48.95000076  49.15999985\n",
      "  49.34000015  45.79999924  47.93000031  49.84999847  48.27000046\n",
      "  49.02000046  46.72999954  47.36999893  45.36999893  44.72999954\n",
      "  46.81999969  44.86999893  45.63999939  45.22999954  44.63999939\n",
      "  44.95999908  43.95999908  43.40999985  42.40000153  42.15999985\n",
      "  41.90000153  41.13000107  41.54000092  40.04999924  39.5\n",
      "  40.79999924  41.91999817  41.83000183  43.06000137  42.77999878\n",
      "  41.75        43.50999832  44.47000122  45.72000122  46.56999969\n",
      "  46.81000137  48.20000076  46.79999924  47.54000092  46.29000092\n",
      "  46.97000122  47.63999939  43.16999817  44.38999939  44.84999847\n",
      "  45.47000122  47.63000107  45.88000107  44.90999985  43.61999893\n",
      "  43.84999847  43.04000092  43.34000015  45.33000183  46.09999847\n",
      "  44.36000061  45.59999847  44.65000153  47.06999969  48.66999817\n",
      "  49.75        49.75999832  50.72000122  50.13999939  50.47000122\n",
      "  50.34999847  49.97000122  50.29999924  51.59000015  50.31000137\n",
      "  50.61000061  50.18000031  49.45000076  48.72000122  46.83000183\n",
      "  46.65999985  45.31999969  44.65999985  45.20000076  44.61999893\n",
      "  43.29000092  45.86000061  45.56000137  45.68999863  47.47999954\n",
      "  48.06999969  46.72000122  45.65999985  49.40999985  51.08000183\n",
      "  51.70000076  51.72000122  50.95000076  50.84000015  51.50999832\n",
      "  51.00999832  51.93000031  52.22000122  51.43999863  51.97999954\n",
      "  52.00999832  52.81999969  54.00999832  53.79999924  53.75\n",
      "  52.36000061  53.25999832  53.77000046  53.97999954  50.81999969\n",
      "  53.00999832  52.45000076  51.38999939  52.77000046  52.38000107\n",
      "  52.13999939  53.24000168  53.18000031  52.63000107  52.75\n",
      "  53.90000153  53.54999924  53.81000137  52.36999893  53.84000015\n",
      "  52.95999908  53.20999908  53.11000061  53.40999985  54.02000046\n",
      "  53.61000061  54.47999954  53.99000168  54.04000092  54.\n",
      "  53.81999969  53.33000183  53.18999863  52.68000031  49.83000183\n",
      "  48.04999924  47.95000076  47.24000168  48.34000015  48.29999924\n",
      "  47.02000046  47.29000092  47.          48.36000061  49.47000122\n",
      "  50.54000092  50.99000168  51.13999939  51.68999863  52.25\n",
      "  53.06000137  53.38000107  53.11999893  52.61999893  52.45999908\n",
      "  50.49000168  50.25999832  49.63999939  48.90000153  49.22000122\n",
      "  48.95999908  49.31000137  46.22999954  46.45999908  47.27999878\n",
      "  47.81000137  47.83000183  48.86000061  48.63999939  49.04000092\n",
      "  50.31999969  50.81000137  48.56999969  49.58000183  49.63000107\n",
      "  48.31999969  47.68000031  48.13000107  45.68000031  45.81999969\n",
      "  46.40999985  44.79000092  44.24000168  42.47999954  42.52999878\n",
      "  42.86000061  43.24000168  44.25        44.74000168  45.11000061\n",
      "  45.52000046  45.47999954  46.52999878  46.40000153  47.09999847\n",
      "  45.77999878  47.77000046  48.58000183  49.04999924  49.72000122\n",
      "  50.20999908  49.18999863  49.59999847  49.02999878  49.56999969\n",
      "  49.36999893  48.54000092  48.81000137  47.59000015  47.56999969\n",
      "  48.59000015  47.38999939  45.95999908  47.25999832]\n",
      "==================================================\n",
      "\n",
      "\n"
     ]
    }
   ],
   "source": [
    "\n",
    "def print_unique_values(df, df_name):\n",
    "    columns = df.columns\n",
    "    print(f'Unique values in {df_name}:')\n",
    "    for column in columns:\n",
    "        print(f'{column}')\n",
    "        unique_values = df[column].unique()\n",
    "        print(f'There are {unique_values.size} unique values')\n",
    "        print(f'{unique_values}')\n",
    "        print('=' * 50)\n",
    "    print('\\n')\n",
    "\n",
    "# Check unique values in df_stores\n",
    "print_unique_values(df_stores, 'df_stores')\n",
    "\n",
    "# Check unique values in df_holidays_events\n",
    "print_unique_values(df_holidays_events, 'df_holidays_events')\n",
    "\n",
    "# Check unique values in data_oil\n",
    "print_unique_values(data_oil, 'data_oil')\n"
   ]
  },
  {
   "cell_type": "markdown",
   "metadata": {},
   "source": [
    "#### **UNIVARIATE ANALYSIS**"
   ]
  },
  {
   "cell_type": "code",
   "execution_count": 29,
   "metadata": {},
   "outputs": [
    {
     "data": {
      "image/png": "[encoded data removed]",
      "text/plain": [
       "<Figure size 1200x600 with 1 Axes>"
      ]
     },
     "metadata": {},
     "output_type": "display_data"
    }
   ],
   "source": [
    "# Count of stores by state\n",
    "plt.figure(figsize=(12, 6))\n",
    "sns.countplot(x='state', data=df_stores, order=df_stores['state'].value_counts().index)\n",
    "plt.title('Count of Stores by State')\n",
    "plt.xlabel('State')\n",
    "plt.ylabel('Count')\n",
    "plt.xticks(rotation=45)\n",
    "plt.show()\n"
   ]
  },
  {
   "cell_type": "code",
   "execution_count": 30,
   "metadata": {},
   "outputs": [
    {
     "data": {
      "image/png": "[encoded data removed]",
      "text/plain": [
       "<Figure size 1200x600 with 1 Axes>"
      ]
     },
     "metadata": {},
     "output_type": "display_data"
    }
   ],
   "source": [
    "# Count of stores by city\n",
    "plt.figure(figsize=(12, 6))\n",
    "sns.countplot(x='city', data=df_stores, order=df_stores['city'].value_counts().index)\n",
    "plt.title('Count of Stores by City')\n",
    "plt.xlabel('City')\n",
    "plt.ylabel('Count')\n",
    "plt.xticks(rotation=90)\n",
    "plt.show()\n"
   ]
  },
  {
   "cell_type": "code",
   "execution_count": 31,
   "metadata": {},
   "outputs": [
    {
     "data": {
      "image/png": "[encoded data removed]",
      "text/plain": [
       "<Figure size 800x600 with 1 Axes>"
      ]
     },
     "metadata": {},
     "output_type": "display_data"
    }
   ],
   "source": [
    "# Count of stores by type\n",
    "plt.figure(figsize=(8, 6))\n",
    "sns.countplot(x='type', data=df_stores, order=df_stores['type'].value_counts().index)\n",
    "plt.title('Count of Stores by Type')\n",
    "plt.xlabel('Type')\n",
    "plt.ylabel('Count')\n",
    "plt.show()\n"
   ]
  },
  {
   "cell_type": "code",
   "execution_count": 32,
   "metadata": {},
   "outputs": [
    {
     "data": {
      "image/png": "[encoded data removed]",
      "text/plain": [
       "<Figure size 1000x600 with 1 Axes>"
      ]
     },
     "metadata": {},
     "output_type": "display_data"
    }
   ],
   "source": [
    "# Count of stores by cluster\n",
    "plt.figure(figsize=(10, 6))\n",
    "sns.countplot(x='cluster', data=df_stores, order=df_stores['cluster'].value_counts().index)\n",
    "plt.title('Count of Stores by Cluster')\n",
    "plt.xlabel('Cluster')\n",
    "plt.ylabel('Count')\n",
    "plt.show()\n"
   ]
  },
  {
   "cell_type": "code",
   "execution_count": 33,
   "metadata": {},
   "outputs": [
    {
     "data": {
      "image/png": "[encoded data removed]",
      "text/plain": [
       "<Figure size 1200x600 with 1 Axes>"
      ]
     },
     "metadata": {},
     "output_type": "display_data"
    }
   ],
   "source": [
    "# Count of holidays and events by type\n",
    "plt.figure(figsize=(12, 6))\n",
    "sns.countplot(x='type', data=df_holidays_events, order=df_holidays_events['type'].value_counts().index)\n",
    "plt.title('Count of Holidays and Events by Type')\n",
    "plt.xlabel('Type')\n",
    "plt.ylabel('Count')\n",
    "plt.xticks(rotation=45)\n",
    "plt.show()\n"
   ]
  },
  {
   "cell_type": "code",
   "execution_count": 34,
   "metadata": {},
   "outputs": [
    {
     "data": {
      "image/png": "[encoded data removed]",
      "text/plain": [
       "<Figure size 1400x700 with 1 Axes>"
      ]
     },
     "metadata": {},
     "output_type": "display_data"
    }
   ],
   "source": [
    "# Trend of oil prices\n",
    "plt.figure(figsize=(14, 7))\n",
    "sns.lineplot(x='date', y='dcoilwtico', data=data_oil)\n",
    "plt.title('Trend of Oil Prices Over Time')\n",
    "plt.xlabel('Date')\n",
    "plt.ylabel('Oil Price')\n",
    "plt.xticks(rotation=45)\n",
    "plt.show()\n"
   ]
  },
  {
   "cell_type": "markdown",
   "metadata": {},
   "source": [
    "#### **RENAMING COLUMNS**"
   ]
  },
  {
   "cell_type": "code",
   "execution_count": 35,
   "metadata": {},
   "outputs": [],
   "source": [
    "# Rename the \"dcoilwtico\" column to \"price\"\n",
    "oil_eda = data_oil.copy()\n",
    "oil_eda.rename(columns={'dcoilwtico': 'price'}, inplace=True)"
   ]
  },
  {
   "cell_type": "code",
   "execution_count": 36,
   "metadata": {},
   "outputs": [
    {
     "data": {
      "text/html": [
       "<div>\n",
       "<style scoped>\n",
       "    .dataframe tbody tr th:only-of-type {\n",
       "        vertical-align: middle;\n",
       "    }\n",
       "\n",
       "    .dataframe tbody tr th {\n",
       "        vertical-align: top;\n",
       "    }\n",
       "\n",
       "    .dataframe thead th {\n",
       "        text-align: right;\n",
       "    }\n",
       "</style>\n",
       "<table border=\"1\" class=\"dataframe\">\n",
       "  <thead>\n",
       "    <tr style=\"text-align: right;\">\n",
       "      <th></th>\n",
       "      <th>date</th>\n",
       "      <th>price</th>\n",
       "    </tr>\n",
       "  </thead>\n",
       "  <tbody>\n",
       "    <tr>\n",
       "      <th>0</th>\n",
       "      <td>2013-01-01</td>\n",
       "      <td>NaN</td>\n",
       "    </tr>\n",
       "    <tr>\n",
       "      <th>1</th>\n",
       "      <td>2013-01-02</td>\n",
       "      <td>93.139999</td>\n",
       "    </tr>\n",
       "    <tr>\n",
       "      <th>2</th>\n",
       "      <td>2013-01-03</td>\n",
       "      <td>92.970001</td>\n",
       "    </tr>\n",
       "    <tr>\n",
       "      <th>3</th>\n",
       "      <td>2013-01-04</td>\n",
       "      <td>93.120003</td>\n",
       "    </tr>\n",
       "    <tr>\n",
       "      <th>4</th>\n",
       "      <td>2013-01-07</td>\n",
       "      <td>93.199997</td>\n",
       "    </tr>\n",
       "  </tbody>\n",
       "</table>\n",
       "</div>"
      ],
      "text/plain": [
       "        date      price\n",
       "0 2013-01-01        NaN\n",
       "1 2013-01-02  93.139999\n",
       "2 2013-01-03  92.970001\n",
       "3 2013-01-04  93.120003\n",
       "4 2013-01-07  93.199997"
      ]
     },
     "execution_count": 36,
     "metadata": {},
     "output_type": "execute_result"
    }
   ],
   "source": [
    "# Confirm changes\n",
    "oil_eda.head()"
   ]
  },
  {
   "cell_type": "markdown",
   "metadata": {},
   "source": [
    "### **MERGING**"
   ]
  },
  {
   "cell_type": "code",
   "execution_count": 37,
   "metadata": {},
   "outputs": [],
   "source": [
    "# Define a function that check the matching columns across all the dataset \n",
    "\n",
    "# Define a Class that assigns the name to the Dataset\n",
    "class NamedDataFrame(pd.DataFrame):\n",
    "    def __init__(self, *args, name=None, **kwargs):\n",
    "        super().__init__(*args, **kwargs)\n",
    "        self.name = name\n",
    "\n",
    "# Define a function that output the matching pairs\n",
    "def find_matching_columns_in_pairs(df:list):\n",
    "    for df1_idx, (df1, df1_name) in enumerate(df):\n",
    "        for df2_idx, (df2, df2_name) in enumerate(df):\n",
    "            if df1_idx < df2_idx:\n",
    "                common_columns = [i for i in df1.columns if any(i in j for j in df2.columns)]\n",
    "\n",
    "                print(f\"Matching columns between {df1_name} and {df2_name}: {common_columns}\")"
   ]
  },
  {
   "cell_type": "code",
   "execution_count": 38,
   "metadata": {},
   "outputs": [
    {
     "name": "stdout",
     "output_type": "stream",
     "text": [
      "Matching columns between Oil and Holidays Events: ['date']\n",
      "Matching columns between Oil and Stores: []\n",
      "Matching columns between Oil and Transactions: ['date']\n",
      "Matching columns between Oil and Train: ['date']\n",
      "Matching columns between Oil and Test: ['date']\n",
      "Matching columns between Holidays Events and Stores: ['type']\n",
      "Matching columns between Holidays Events and Transactions: ['date']\n",
      "Matching columns between Holidays Events and Train: ['date']\n",
      "Matching columns between Holidays Events and Test: ['date']\n",
      "Matching columns between Stores and Transactions: ['store_nbr']\n",
      "Matching columns between Stores and Train: ['store_nbr']\n",
      "Matching columns between Stores and Test: ['store_nbr']\n",
      "Matching columns between Transactions and Train: ['date', 'store_nbr']\n",
      "Matching columns between Transactions and Test: ['date', 'store_nbr']\n",
      "Matching columns between Train and Test: ['id', 'date', 'store_nbr', 'family', 'onpromotion']\n"
     ]
    }
   ],
   "source": [
    "# Define the dataset names\n",
    "datasets = [\n",
    "    (data_oil, 'Oil'),\n",
    "    (df_holidays_events, 'Holidays Events'),\n",
    "    (df_stores, 'Stores'),\n",
    "    (transactions, 'Transactions'),\n",
    "    (df_train, 'Train'),\n",
    "    (df_test, 'Test'),\n",
    "]\n",
    "\n",
    "# Apply the function to check the pairs\n",
    "find_matching_columns_in_pairs(datasets)"
   ]
  },
  {
   "cell_type": "code",
   "execution_count": 39,
   "metadata": {},
   "outputs": [],
   "source": [
    "# Define a function that compares the two dates and also check the date range\n",
    "def date_comparison(date_column1, date_column2):\n",
    "    \"\"\"\n",
    "    Compare two date columns and print counts and date ranges.\n",
    "    \n",
    "    Parameters:\n",
    "    - date_column1: The first date column (as a pandas Series).\n",
    "    - date_column2: The second date column (as a pandas Series).\n",
    "\n",
    "    Returns:\n",
    "    - A dictionary containing the count of common and uncommon dates, as well as date ranges.\n",
    "    \"\"\"\n",
    "    # Convert date columns to sets for faster set operations\n",
    "    dates1 = set(date_column1)\n",
    "    dates2 = set(date_column2)\n",
    "\n",
    "    # Find common dates\n",
    "    common_dates = dates1.intersection(dates2)\n",
    "    count_common = len(common_dates)\n",
    "\n",
    "    # Find uncommon dates\n",
    "    uncommon_dates = dates1.symmetric_difference(dates2)\n",
    "    count_uncommon = len(uncommon_dates)\n",
    "\n",
    "    # Find date range for dates1 dataset\n",
    "    date_range1 = (min(dates1), max(dates1))\n",
    "\n",
    "    # Find date range for dates2 dataset\n",
    "    date_range2 = (min(dates2), max(dates2))\n",
    "\n",
    "    # Store the counts and date ranges in a dictionary\n",
    "    results = {\n",
    "        'Common': count_common,\n",
    "        'Uncommon': count_uncommon,\n",
    "        'Date Range 1': date_range1,\n",
    "        'Date Range 2': date_range2\n",
    "    }\n",
    "\n",
    "    return results"
   ]
  },
  {
   "cell_type": "code",
   "execution_count": 40,
   "metadata": {},
   "outputs": [
    {
     "data": {
      "text/html": [
       "<div>\n",
       "<style scoped>\n",
       "    .dataframe tbody tr th:only-of-type {\n",
       "        vertical-align: middle;\n",
       "    }\n",
       "\n",
       "    .dataframe tbody tr th {\n",
       "        vertical-align: top;\n",
       "    }\n",
       "\n",
       "    .dataframe thead th {\n",
       "        text-align: right;\n",
       "    }\n",
       "</style>\n",
       "<table border=\"1\" class=\"dataframe\">\n",
       "  <thead>\n",
       "    <tr style=\"text-align: right;\">\n",
       "      <th></th>\n",
       "      <th>Common</th>\n",
       "      <th>Uncommon</th>\n",
       "      <th>Date Range 1</th>\n",
       "      <th>Date Range 2</th>\n",
       "    </tr>\n",
       "  </thead>\n",
       "  <tbody>\n",
       "    <tr>\n",
       "      <th>0</th>\n",
       "      <td>1682</td>\n",
       "      <td>2</td>\n",
       "      <td>2013-01-01</td>\n",
       "      <td>2013-01-01</td>\n",
       "    </tr>\n",
       "    <tr>\n",
       "      <th>1</th>\n",
       "      <td>1682</td>\n",
       "      <td>2</td>\n",
       "      <td>2017-08-15</td>\n",
       "      <td>2017-08-15</td>\n",
       "    </tr>\n",
       "  </tbody>\n",
       "</table>\n",
       "</div>"
      ],
      "text/plain": [
       "   Common  Uncommon Date Range 1 Date Range 2\n",
       "0    1682         2   2013-01-01   2013-01-01\n",
       "1    1682         2   2017-08-15   2017-08-15"
      ]
     },
     "execution_count": 40,
     "metadata": {},
     "output_type": "execute_result"
    }
   ],
   "source": [
    "# Apply the function to compare for Transaction and Train\n",
    "compare_result_train= date_comparison(transactions['date'], df_train['date'])\n",
    "\n",
    "# print\n",
    "pd.DataFrame(compare_result_train)"
   ]
  },
  {
   "cell_type": "code",
   "execution_count": 41,
   "metadata": {},
   "outputs": [
    {
     "data": {
      "text/html": [
       "<div>\n",
       "<style scoped>\n",
       "    .dataframe tbody tr th:only-of-type {\n",
       "        vertical-align: middle;\n",
       "    }\n",
       "\n",
       "    .dataframe tbody tr th {\n",
       "        vertical-align: top;\n",
       "    }\n",
       "\n",
       "    .dataframe thead th {\n",
       "        text-align: right;\n",
       "    }\n",
       "</style>\n",
       "<table border=\"1\" class=\"dataframe\">\n",
       "  <thead>\n",
       "    <tr style=\"text-align: right;\">\n",
       "      <th></th>\n",
       "      <th>Common</th>\n",
       "      <th>Uncommon</th>\n",
       "      <th>Date Range 1</th>\n",
       "      <th>Date Range 2</th>\n",
       "    </tr>\n",
       "  </thead>\n",
       "  <tbody>\n",
       "    <tr>\n",
       "      <th>0</th>\n",
       "      <td>0</td>\n",
       "      <td>1698</td>\n",
       "      <td>2013-01-01</td>\n",
       "      <td>2017-08-16</td>\n",
       "    </tr>\n",
       "    <tr>\n",
       "      <th>1</th>\n",
       "      <td>0</td>\n",
       "      <td>1698</td>\n",
       "      <td>2017-08-15</td>\n",
       "      <td>2017-08-31</td>\n",
       "    </tr>\n",
       "  </tbody>\n",
       "</table>\n",
       "</div>"
      ],
      "text/plain": [
       "   Common  Uncommon Date Range 1 Date Range 2\n",
       "0       0      1698   2013-01-01   2017-08-16\n",
       "1       0      1698   2017-08-15   2017-08-31"
      ]
     },
     "execution_count": 41,
     "metadata": {},
     "output_type": "execute_result"
    }
   ],
   "source": [
    "# Apply the function to compare for Transaction and Test\n",
    "compare_result_test= date_comparison(transactions['date'], df_test['date'])\n",
    "\n",
    "# print\n",
    "pd.DataFrame(compare_result_test)"
   ]
  },
  {
   "cell_type": "code",
   "execution_count": 42,
   "metadata": {},
   "outputs": [],
   "source": [
    "# Merge the Stores data to the Train\n",
    "train_eda = df_train.copy()\n",
    "train_eda = train_eda.merge(oil_eda, on=['date'])"
   ]
  },
  {
   "cell_type": "code",
   "execution_count": 43,
   "metadata": {},
   "outputs": [],
   "source": [
    "# Merge holidays events, stores and transactions to the Train\n",
    "train_eda = train_eda.merge(df_stores, on=['store_nbr'])\n",
    "train_eda = train_eda.merge(df_holidays_events, on=['date'])\n",
    "train_eda = train_eda.merge(transactions, on=['date', 'store_nbr'])"
   ]
  },
  {
   "cell_type": "code",
   "execution_count": 44,
   "metadata": {},
   "outputs": [
    {
     "data": {
      "text/html": [
       "<div>\n",
       "<style scoped>\n",
       "    .dataframe tbody tr th:only-of-type {\n",
       "        vertical-align: middle;\n",
       "    }\n",
       "\n",
       "    .dataframe tbody tr th {\n",
       "        vertical-align: top;\n",
       "    }\n",
       "\n",
       "    .dataframe thead th {\n",
       "        text-align: right;\n",
       "    }\n",
       "</style>\n",
       "<table border=\"1\" class=\"dataframe\">\n",
       "  <thead>\n",
       "    <tr style=\"text-align: right;\">\n",
       "      <th></th>\n",
       "      <th>id</th>\n",
       "      <th>date</th>\n",
       "      <th>store_nbr</th>\n",
       "      <th>family</th>\n",
       "      <th>sales</th>\n",
       "      <th>onpromotion</th>\n",
       "      <th>price</th>\n",
       "      <th>city</th>\n",
       "      <th>state</th>\n",
       "      <th>type_x</th>\n",
       "      <th>cluster</th>\n",
       "      <th>type_y</th>\n",
       "      <th>locale</th>\n",
       "      <th>locale_name</th>\n",
       "      <th>description</th>\n",
       "      <th>transferred</th>\n",
       "      <th>transactions</th>\n",
       "    </tr>\n",
       "  </thead>\n",
       "  <tbody>\n",
       "    <tr>\n",
       "      <th>0</th>\n",
       "      <td>561</td>\n",
       "      <td>2013-01-01</td>\n",
       "      <td>25</td>\n",
       "      <td>AUTOMOTIVE</td>\n",
       "      <td>0.0</td>\n",
       "      <td>0</td>\n",
       "      <td>NaN</td>\n",
       "      <td>Salinas</td>\n",
       "      <td>Santa Elena</td>\n",
       "      <td>D</td>\n",
       "      <td>1</td>\n",
       "      <td>Holiday</td>\n",
       "      <td>National</td>\n",
       "      <td>Ecuador</td>\n",
       "      <td>Primer dia del ano</td>\n",
       "      <td>False</td>\n",
       "      <td>770</td>\n",
       "    </tr>\n",
       "    <tr>\n",
       "      <th>1</th>\n",
       "      <td>562</td>\n",
       "      <td>2013-01-01</td>\n",
       "      <td>25</td>\n",
       "      <td>BABY CARE</td>\n",
       "      <td>0.0</td>\n",
       "      <td>0</td>\n",
       "      <td>NaN</td>\n",
       "      <td>Salinas</td>\n",
       "      <td>Santa Elena</td>\n",
       "      <td>D</td>\n",
       "      <td>1</td>\n",
       "      <td>Holiday</td>\n",
       "      <td>National</td>\n",
       "      <td>Ecuador</td>\n",
       "      <td>Primer dia del ano</td>\n",
       "      <td>False</td>\n",
       "      <td>770</td>\n",
       "    </tr>\n",
       "    <tr>\n",
       "      <th>2</th>\n",
       "      <td>563</td>\n",
       "      <td>2013-01-01</td>\n",
       "      <td>25</td>\n",
       "      <td>BEAUTY</td>\n",
       "      <td>2.0</td>\n",
       "      <td>0</td>\n",
       "      <td>NaN</td>\n",
       "      <td>Salinas</td>\n",
       "      <td>Santa Elena</td>\n",
       "      <td>D</td>\n",
       "      <td>1</td>\n",
       "      <td>Holiday</td>\n",
       "      <td>National</td>\n",
       "      <td>Ecuador</td>\n",
       "      <td>Primer dia del ano</td>\n",
       "      <td>False</td>\n",
       "      <td>770</td>\n",
       "    </tr>\n",
       "    <tr>\n",
       "      <th>3</th>\n",
       "      <td>564</td>\n",
       "      <td>2013-01-01</td>\n",
       "      <td>25</td>\n",
       "      <td>BEVERAGES</td>\n",
       "      <td>810.0</td>\n",
       "      <td>0</td>\n",
       "      <td>NaN</td>\n",
       "      <td>Salinas</td>\n",
       "      <td>Santa Elena</td>\n",
       "      <td>D</td>\n",
       "      <td>1</td>\n",
       "      <td>Holiday</td>\n",
       "      <td>National</td>\n",
       "      <td>Ecuador</td>\n",
       "      <td>Primer dia del ano</td>\n",
       "      <td>False</td>\n",
       "      <td>770</td>\n",
       "    </tr>\n",
       "    <tr>\n",
       "      <th>4</th>\n",
       "      <td>565</td>\n",
       "      <td>2013-01-01</td>\n",
       "      <td>25</td>\n",
       "      <td>BOOKS</td>\n",
       "      <td>0.0</td>\n",
       "      <td>0</td>\n",
       "      <td>NaN</td>\n",
       "      <td>Salinas</td>\n",
       "      <td>Santa Elena</td>\n",
       "      <td>D</td>\n",
       "      <td>1</td>\n",
       "      <td>Holiday</td>\n",
       "      <td>National</td>\n",
       "      <td>Ecuador</td>\n",
       "      <td>Primer dia del ano</td>\n",
       "      <td>False</td>\n",
       "      <td>770</td>\n",
       "    </tr>\n",
       "  </tbody>\n",
       "</table>\n",
       "</div>"
      ],
      "text/plain": [
       "    id       date  store_nbr      family  sales onpromotion  price     city  \\\n",
       "0  561 2013-01-01         25  AUTOMOTIVE    0.0           0    NaN  Salinas   \n",
       "1  562 2013-01-01         25   BABY CARE    0.0           0    NaN  Salinas   \n",
       "2  563 2013-01-01         25      BEAUTY    2.0           0    NaN  Salinas   \n",
       "3  564 2013-01-01         25   BEVERAGES  810.0           0    NaN  Salinas   \n",
       "4  565 2013-01-01         25       BOOKS    0.0           0    NaN  Salinas   \n",
       "\n",
       "         state type_x  cluster   type_y    locale locale_name  \\\n",
       "0  Santa Elena      D        1  Holiday  National     Ecuador   \n",
       "1  Santa Elena      D        1  Holiday  National     Ecuador   \n",
       "2  Santa Elena      D        1  Holiday  National     Ecuador   \n",
       "3  Santa Elena      D        1  Holiday  National     Ecuador   \n",
       "4  Santa Elena      D        1  Holiday  National     Ecuador   \n",
       "\n",
       "          description transferred  transactions  \n",
       "0  Primer dia del ano       False           770  \n",
       "1  Primer dia del ano       False           770  \n",
       "2  Primer dia del ano       False           770  \n",
       "3  Primer dia del ano       False           770  \n",
       "4  Primer dia del ano       False           770  "
      ]
     },
     "execution_count": 44,
     "metadata": {},
     "output_type": "execute_result"
    }
   ],
   "source": [
    "# Confirm the merged columns to the train\n",
    "train_eda.head()"
   ]
  },
  {
   "cell_type": "code",
   "execution_count": 45,
   "metadata": {},
   "outputs": [],
   "source": [
    "# Rename the type_x and type_y\n",
    "train_eda.rename(columns={'type_x': 'holiday_type', 'type_y': 'store_type'}, inplace=True)"
   ]
  },
  {
   "cell_type": "code",
   "execution_count": 46,
   "metadata": {},
   "outputs": [
    {
     "data": {
      "text/plain": [
       "id                  0\n",
       "date                0\n",
       "store_nbr           0\n",
       "family              0\n",
       "sales               0\n",
       "onpromotion         0\n",
       "price           22044\n",
       "city                0\n",
       "state               0\n",
       "holiday_type        0\n",
       "cluster             0\n",
       "store_type          0\n",
       "locale              0\n",
       "locale_name         0\n",
       "description         0\n",
       "transferred         0\n",
       "transactions        0\n",
       "dtype: int64"
      ]
     },
     "execution_count": 46,
     "metadata": {},
     "output_type": "execute_result"
    }
   ],
   "source": [
    "# Check for missing values\n",
    "train_eda.isnull().sum()"
   ]
  },
  {
   "cell_type": "code",
   "execution_count": 47,
   "metadata": {},
   "outputs": [
    {
     "data": {
      "text/plain": [
       "(322047, 17)"
      ]
     },
     "execution_count": 47,
     "metadata": {},
     "output_type": "execute_result"
    }
   ],
   "source": [
    "# Get the rows and columns in the train dataset\n",
    "train_eda.shape"
   ]
  },
  {
   "cell_type": "code",
   "execution_count": 48,
   "metadata": {},
   "outputs": [
    {
     "name": "stdout",
     "output_type": "stream",
     "text": [
      "<class 'pandas.core.frame.DataFrame'>\n",
      "RangeIndex: 322047 entries, 0 to 322046\n",
      "Data columns (total 17 columns):\n",
      " #   Column        Non-Null Count   Dtype         \n",
      "---  ------        --------------   -----         \n",
      " 0   id            322047 non-null  int64         \n",
      " 1   date          322047 non-null  datetime64[ns]\n",
      " 2   store_nbr     322047 non-null  int8          \n",
      " 3   family        322047 non-null  object        \n",
      " 4   sales         322047 non-null  float64       \n",
      " 5   onpromotion   322047 non-null  object        \n",
      " 6   price         300003 non-null  float64       \n",
      " 7   city          322047 non-null  object        \n",
      " 8   state         322047 non-null  object        \n",
      " 9   holiday_type  322047 non-null  object        \n",
      " 10  cluster       322047 non-null  int64         \n",
      " 11  store_type    322047 non-null  object        \n",
      " 12  locale        322047 non-null  object        \n",
      " 13  locale_name   322047 non-null  object        \n",
      " 14  description   322047 non-null  object        \n",
      " 15  transferred   322047 non-null  object        \n",
      " 16  transactions  322047 non-null  int64         \n",
      "dtypes: datetime64[ns](1), float64(2), int64(3), int8(1), object(10)\n",
      "memory usage: 39.6+ MB\n"
     ]
    }
   ],
   "source": [
    "# Get more info\n",
    "train_eda.info()"
   ]
  },
  {
   "cell_type": "code",
   "execution_count": 49,
   "metadata": {},
   "outputs": [
    {
     "data": {
      "text/html": [
       "<div>\n",
       "<style scoped>\n",
       "    .dataframe tbody tr th:only-of-type {\n",
       "        vertical-align: middle;\n",
       "    }\n",
       "\n",
       "    .dataframe tbody tr th {\n",
       "        vertical-align: top;\n",
       "    }\n",
       "\n",
       "    .dataframe thead th {\n",
       "        text-align: right;\n",
       "    }\n",
       "</style>\n",
       "<table border=\"1\" class=\"dataframe\">\n",
       "  <thead>\n",
       "    <tr style=\"text-align: right;\">\n",
       "      <th></th>\n",
       "      <th>id</th>\n",
       "      <th>date</th>\n",
       "      <th>store_nbr</th>\n",
       "      <th>sales</th>\n",
       "      <th>price</th>\n",
       "      <th>cluster</th>\n",
       "      <th>transactions</th>\n",
       "    </tr>\n",
       "  </thead>\n",
       "  <tbody>\n",
       "    <tr>\n",
       "      <th>count</th>\n",
       "      <td>3.220470e+05</td>\n",
       "      <td>322047</td>\n",
       "      <td>322047.000000</td>\n",
       "      <td>322047.000000</td>\n",
       "      <td>300003.000000</td>\n",
       "      <td>322047.000000</td>\n",
       "      <td>322047.000000</td>\n",
       "    </tr>\n",
       "    <tr>\n",
       "      <th>mean</th>\n",
       "      <td>1.682979e+06</td>\n",
       "      <td>2015-08-04 23:49:57.971104</td>\n",
       "      <td>26.994672</td>\n",
       "      <td>406.383452</td>\n",
       "      <td>64.077912</td>\n",
       "      <td>8.531202</td>\n",
       "      <td>1734.117840</td>\n",
       "    </tr>\n",
       "    <tr>\n",
       "      <th>min</th>\n",
       "      <td>5.610000e+02</td>\n",
       "      <td>2013-01-01 00:00:00</td>\n",
       "      <td>1.000000</td>\n",
       "      <td>0.000000</td>\n",
       "      <td>27.959999</td>\n",
       "      <td>1.000000</td>\n",
       "      <td>54.000000</td>\n",
       "    </tr>\n",
       "    <tr>\n",
       "      <th>25%</th>\n",
       "      <td>1.010616e+06</td>\n",
       "      <td>2014-07-23 00:00:00</td>\n",
       "      <td>13.000000</td>\n",
       "      <td>1.000000</td>\n",
       "      <td>44.660000</td>\n",
       "      <td>4.000000</td>\n",
       "      <td>1030.000000</td>\n",
       "    </tr>\n",
       "    <tr>\n",
       "      <th>50%</th>\n",
       "      <td>1.842406e+06</td>\n",
       "      <td>2015-11-02 00:00:00</td>\n",
       "      <td>27.000000</td>\n",
       "      <td>19.000000</td>\n",
       "      <td>51.439999</td>\n",
       "      <td>9.000000</td>\n",
       "      <td>1409.000000</td>\n",
       "    </tr>\n",
       "    <tr>\n",
       "      <th>75%</th>\n",
       "      <td>2.209556e+06</td>\n",
       "      <td>2016-05-27 00:00:00</td>\n",
       "      <td>40.000000</td>\n",
       "      <td>241.260505</td>\n",
       "      <td>94.739998</td>\n",
       "      <td>13.000000</td>\n",
       "      <td>2148.000000</td>\n",
       "    </tr>\n",
       "    <tr>\n",
       "      <th>max</th>\n",
       "      <td>3.000887e+06</td>\n",
       "      <td>2017-08-15 00:00:00</td>\n",
       "      <td>54.000000</td>\n",
       "      <td>124717.000000</td>\n",
       "      <td>107.949997</td>\n",
       "      <td>17.000000</td>\n",
       "      <td>8359.000000</td>\n",
       "    </tr>\n",
       "    <tr>\n",
       "      <th>std</th>\n",
       "      <td>7.862493e+05</td>\n",
       "      <td>NaN</td>\n",
       "      <td>15.595174</td>\n",
       "      <td>1246.881240</td>\n",
       "      <td>25.147682</td>\n",
       "      <td>4.713809</td>\n",
       "      <td>1050.335018</td>\n",
       "    </tr>\n",
       "  </tbody>\n",
       "</table>\n",
       "</div>"
      ],
      "text/plain": [
       "                 id                        date      store_nbr          sales  \\\n",
       "count  3.220470e+05                      322047  322047.000000  322047.000000   \n",
       "mean   1.682979e+06  2015-08-04 23:49:57.971104      26.994672     406.383452   \n",
       "min    5.610000e+02         2013-01-01 00:00:00       1.000000       0.000000   \n",
       "25%    1.010616e+06         2014-07-23 00:00:00      13.000000       1.000000   \n",
       "50%    1.842406e+06         2015-11-02 00:00:00      27.000000      19.000000   \n",
       "75%    2.209556e+06         2016-05-27 00:00:00      40.000000     241.260505   \n",
       "max    3.000887e+06         2017-08-15 00:00:00      54.000000  124717.000000   \n",
       "std    7.862493e+05                         NaN      15.595174    1246.881240   \n",
       "\n",
       "               price        cluster   transactions  \n",
       "count  300003.000000  322047.000000  322047.000000  \n",
       "mean       64.077912       8.531202    1734.117840  \n",
       "min        27.959999       1.000000      54.000000  \n",
       "25%        44.660000       4.000000    1030.000000  \n",
       "50%        51.439999       9.000000    1409.000000  \n",
       "75%        94.739998      13.000000    2148.000000  \n",
       "max       107.949997      17.000000    8359.000000  \n",
       "std        25.147682       4.713809    1050.335018  "
      ]
     },
     "execution_count": 49,
     "metadata": {},
     "output_type": "execute_result"
    }
   ],
   "source": [
    "# Generate summary statistics\n",
    "train_eda.describe()"
   ]
  },
  {
   "cell_type": "code",
   "execution_count": 50,
   "metadata": {},
   "outputs": [
    {
     "data": {
      "text/plain": [
       "array([2013, 2014, 2015, 2016, 2017], dtype=int32)"
      ]
     },
     "execution_count": 50,
     "metadata": {},
     "output_type": "execute_result"
    }
   ],
   "source": [
    "# Get the unique years contained in the dataset\n",
    "train_eda['date'].dt.year.unique()"
   ]
  },
  {
   "cell_type": "code",
   "execution_count": 51,
   "metadata": {},
   "outputs": [
    {
     "data": {
      "text/html": [
       "<div>\n",
       "<style scoped>\n",
       "    .dataframe tbody tr th:only-of-type {\n",
       "        vertical-align: middle;\n",
       "    }\n",
       "\n",
       "    .dataframe tbody tr th {\n",
       "        vertical-align: top;\n",
       "    }\n",
       "\n",
       "    .dataframe thead th {\n",
       "        text-align: right;\n",
       "    }\n",
       "</style>\n",
       "<table border=\"1\" class=\"dataframe\">\n",
       "  <thead>\n",
       "    <tr style=\"text-align: right;\">\n",
       "      <th></th>\n",
       "      <th>id</th>\n",
       "      <th>date</th>\n",
       "      <th>store_nbr</th>\n",
       "      <th>family</th>\n",
       "      <th>sales</th>\n",
       "      <th>onpromotion</th>\n",
       "      <th>price</th>\n",
       "      <th>city</th>\n",
       "      <th>state</th>\n",
       "      <th>holiday_type</th>\n",
       "      <th>cluster</th>\n",
       "      <th>store_type</th>\n",
       "      <th>locale</th>\n",
       "      <th>locale_name</th>\n",
       "      <th>description</th>\n",
       "      <th>transferred</th>\n",
       "      <th>transactions</th>\n",
       "    </tr>\n",
       "  </thead>\n",
       "  <tbody>\n",
       "    <tr>\n",
       "      <th>0</th>\n",
       "      <td>561</td>\n",
       "      <td>2013-01-01</td>\n",
       "      <td>25</td>\n",
       "      <td>AUTOMOTIVE</td>\n",
       "      <td>0.0</td>\n",
       "      <td>0</td>\n",
       "      <td>NaN</td>\n",
       "      <td>Salinas</td>\n",
       "      <td>Santa Elena</td>\n",
       "      <td>D</td>\n",
       "      <td>1</td>\n",
       "      <td>Holiday</td>\n",
       "      <td>National</td>\n",
       "      <td>Ecuador</td>\n",
       "      <td>Primer dia del ano</td>\n",
       "      <td>False</td>\n",
       "      <td>770</td>\n",
       "    </tr>\n",
       "    <tr>\n",
       "      <th>1</th>\n",
       "      <td>562</td>\n",
       "      <td>2013-01-01</td>\n",
       "      <td>25</td>\n",
       "      <td>BABY CARE</td>\n",
       "      <td>0.0</td>\n",
       "      <td>0</td>\n",
       "      <td>NaN</td>\n",
       "      <td>Salinas</td>\n",
       "      <td>Santa Elena</td>\n",
       "      <td>D</td>\n",
       "      <td>1</td>\n",
       "      <td>Holiday</td>\n",
       "      <td>National</td>\n",
       "      <td>Ecuador</td>\n",
       "      <td>Primer dia del ano</td>\n",
       "      <td>False</td>\n",
       "      <td>770</td>\n",
       "    </tr>\n",
       "    <tr>\n",
       "      <th>2</th>\n",
       "      <td>563</td>\n",
       "      <td>2013-01-01</td>\n",
       "      <td>25</td>\n",
       "      <td>BEAUTY</td>\n",
       "      <td>2.0</td>\n",
       "      <td>0</td>\n",
       "      <td>NaN</td>\n",
       "      <td>Salinas</td>\n",
       "      <td>Santa Elena</td>\n",
       "      <td>D</td>\n",
       "      <td>1</td>\n",
       "      <td>Holiday</td>\n",
       "      <td>National</td>\n",
       "      <td>Ecuador</td>\n",
       "      <td>Primer dia del ano</td>\n",
       "      <td>False</td>\n",
       "      <td>770</td>\n",
       "    </tr>\n",
       "    <tr>\n",
       "      <th>3</th>\n",
       "      <td>564</td>\n",
       "      <td>2013-01-01</td>\n",
       "      <td>25</td>\n",
       "      <td>BEVERAGES</td>\n",
       "      <td>810.0</td>\n",
       "      <td>0</td>\n",
       "      <td>NaN</td>\n",
       "      <td>Salinas</td>\n",
       "      <td>Santa Elena</td>\n",
       "      <td>D</td>\n",
       "      <td>1</td>\n",
       "      <td>Holiday</td>\n",
       "      <td>National</td>\n",
       "      <td>Ecuador</td>\n",
       "      <td>Primer dia del ano</td>\n",
       "      <td>False</td>\n",
       "      <td>770</td>\n",
       "    </tr>\n",
       "    <tr>\n",
       "      <th>4</th>\n",
       "      <td>565</td>\n",
       "      <td>2013-01-01</td>\n",
       "      <td>25</td>\n",
       "      <td>BOOKS</td>\n",
       "      <td>0.0</td>\n",
       "      <td>0</td>\n",
       "      <td>NaN</td>\n",
       "      <td>Salinas</td>\n",
       "      <td>Santa Elena</td>\n",
       "      <td>D</td>\n",
       "      <td>1</td>\n",
       "      <td>Holiday</td>\n",
       "      <td>National</td>\n",
       "      <td>Ecuador</td>\n",
       "      <td>Primer dia del ano</td>\n",
       "      <td>False</td>\n",
       "      <td>770</td>\n",
       "    </tr>\n",
       "  </tbody>\n",
       "</table>\n",
       "</div>"
      ],
      "text/plain": [
       "    id       date  store_nbr      family  sales onpromotion  price     city  \\\n",
       "0  561 2013-01-01         25  AUTOMOTIVE    0.0           0    NaN  Salinas   \n",
       "1  562 2013-01-01         25   BABY CARE    0.0           0    NaN  Salinas   \n",
       "2  563 2013-01-01         25      BEAUTY    2.0           0    NaN  Salinas   \n",
       "3  564 2013-01-01         25   BEVERAGES  810.0           0    NaN  Salinas   \n",
       "4  565 2013-01-01         25       BOOKS    0.0           0    NaN  Salinas   \n",
       "\n",
       "         state holiday_type  cluster store_type    locale locale_name  \\\n",
       "0  Santa Elena            D        1    Holiday  National     Ecuador   \n",
       "1  Santa Elena            D        1    Holiday  National     Ecuador   \n",
       "2  Santa Elena            D        1    Holiday  National     Ecuador   \n",
       "3  Santa Elena            D        1    Holiday  National     Ecuador   \n",
       "4  Santa Elena            D        1    Holiday  National     Ecuador   \n",
       "\n",
       "          description transferred  transactions  \n",
       "0  Primer dia del ano       False           770  \n",
       "1  Primer dia del ano       False           770  \n",
       "2  Primer dia del ano       False           770  \n",
       "3  Primer dia del ano       False           770  \n",
       "4  Primer dia del ano       False           770  "
      ]
     },
     "execution_count": 51,
     "metadata": {},
     "output_type": "execute_result"
    }
   ],
   "source": [
    "# Confirm changes\n",
    "train_eda.head()"
   ]
  },
  {
   "cell_type": "code",
   "execution_count": 52,
   "metadata": {},
   "outputs": [],
   "source": [
    "# Set the index of the train to date to aid smooth analysis\n",
    "train_eda.set_index('date', inplace=True)"
   ]
  },
  {
   "cell_type": "code",
   "execution_count": 53,
   "metadata": {},
   "outputs": [],
   "source": [
    "# Convert onpromotion to int\n",
    "train_eda['onpromotion'] = train_eda['onpromotion'].astype('int')"
   ]
  },
  {
   "cell_type": "markdown",
   "metadata": {},
   "source": [
    "#### **Hpothesis Testing**"
   ]
  },
  {
   "cell_type": "markdown",
   "metadata": {},
   "source": [
    "Null Hypothesis (H0): The number of products under promotion does not influence sales in supermarkets.\n",
    "\n",
    "Alternative Hypothesis (H1): The number of products under promotion significantly influence sales in supermarkets."
   ]
  },
  {
   "cell_type": "code",
   "execution_count": 54,
   "metadata": {},
   "outputs": [
    {
     "name": "stdout",
     "output_type": "stream",
     "text": [
      "Pearson Correlation Coefficient: 0.4180\n",
      "P-value: 0.0000\n",
      "Reject the null hypothesis. There is a significant influence of onpromotion on sales.\n"
     ]
    }
   ],
   "source": [
    "# Extract the 'onpromotion' and 'sales' columns\n",
    "onpromotion = train_eda['onpromotion']\n",
    "sales = train_eda['sales']\n",
    "\n",
    "# Calculate the Pearson correlation coefficient and p-value\n",
    "correlation_coefficient, p_value = stats.pearsonr(onpromotion, sales)\n",
    "\n",
    "# Define the significance level (alpha)\n",
    "alpha = 0.05\n",
    "\n",
    "# Print the results\n",
    "print(f\"Pearson Correlation Coefficient: {correlation_coefficient:.4f}\")\n",
    "print(f\"P-value: {p_value:.4f}\")\n",
    "\n",
    "# Check if the correlation is statistically significant\n",
    "if p_value < alpha:\n",
    "    print(\"Reject the null hypothesis. There is a significant influence of onpromotion on sales.\")\n",
    "else:\n",
    "    print(\"Fail to reject the null hypothesis. There is no significant influence of onpromotion on sales.\")"
   ]
  },
  {
   "cell_type": "code",
   "execution_count": 62,
   "metadata": {},
   "outputs": [
    {
     "name": "stdout",
     "output_type": "stream",
     "text": [
      "Index(['date', 'id', 'store_nbr', 'family', 'sales', 'onpromotion', 'price',\n",
      "       'city', 'state', 'holiday_type', 'cluster', 'store_type', 'locale',\n",
      "       'locale_name', 'description', 'transferred', 'transactions'],\n",
      "      dtype='object')\n"
     ]
    }
   ],
   "source": [
    "print(train_eda.columns)"
   ]
  },
  {
   "cell_type": "markdown",
   "metadata": {},
   "source": [
    "### **ANSWERING ANALYTICAL QUESTIONS**"
   ]
  },
  {
   "cell_type": "markdown",
   "metadata": {},
   "source": [
    "1. IS THE TRAIN DATASET COMPLETE (HAS ALL THE REQUIRED DATES)?"
   ]
  },
  {
   "cell_type": "code",
   "execution_count": 55,
   "metadata": {},
   "outputs": [
    {
     "name": "stdout",
     "output_type": "stream",
     "text": [
      "The train dataset is not complete for all required dates. Missing dates: \n",
      " DatetimeIndex(['2013-01-02', '2013-01-03', '2013-01-04', '2013-01-05',\n",
      "               '2013-01-06', '2013-01-07', '2013-01-08', '2013-01-09',\n",
      "               '2013-01-10', '2013-01-11',\n",
      "               ...\n",
      "               '2017-08-03', '2017-08-04', '2017-08-05', '2017-08-06',\n",
      "               '2017-08-07', '2017-08-08', '2017-08-09', '2017-08-12',\n",
      "               '2017-08-13', '2017-08-14'],\n",
      "              dtype='datetime64[ns]', length=1509, freq=None)\n"
     ]
    }
   ],
   "source": [
    "# reset train data index\n",
    "train_eda.reset_index(inplace=True)\n",
    "\n",
    "# Compute minimum and maximum dates\n",
    "min_date = train_eda['date'].min()\n",
    "max_date = train_eda['date'].max()\n",
    "all_dates = pd.date_range(start=min_date, end=max_date)\n",
    "missing_dates = all_dates[~all_dates.isin(train_eda['date'])]\n",
    "\n",
    "if missing_dates.empty:\n",
    "    print(\"The train dataset is complete for all required dates.\")\n",
    "else:\n",
    "    print(\"The train dataset is not complete for all required dates. Missing dates: \\n\", missing_dates)"
   ]
  },
  {
   "cell_type": "markdown",
   "metadata": {},
   "source": [
    "2. WHICH DATES HAVE THE LOWEST AND HIGHEST SALES FOR EACH YEAR?"
   ]
  },
  {
   "cell_type": "code",
   "execution_count": 63,
   "metadata": {},
   "outputs": [],
   "source": [
    "train_eda['year'] = train_eda['date'].dt.year\n",
    "min_sales_dates = train_eda.groupby('year')[['date', 'sales']].min()\n",
    "max_sales_dates = train_eda.groupby('year')[['date', 'sales']].max()\n",
    "full_dates = min_sales_dates.merge(max_sales_dates, on=['year'])"
   ]
  },
  {
   "cell_type": "code",
   "execution_count": 64,
   "metadata": {},
   "outputs": [
    {
     "data": {
      "text/html": [
       "<div>\n",
       "<style scoped>\n",
       "    .dataframe tbody tr th:only-of-type {\n",
       "        vertical-align: middle;\n",
       "    }\n",
       "\n",
       "    .dataframe tbody tr th {\n",
       "        vertical-align: top;\n",
       "    }\n",
       "\n",
       "    .dataframe thead th {\n",
       "        text-align: right;\n",
       "    }\n",
       "</style>\n",
       "<table border=\"1\" class=\"dataframe\">\n",
       "  <thead>\n",
       "    <tr style=\"text-align: right;\">\n",
       "      <th></th>\n",
       "      <th>date_min</th>\n",
       "      <th>sales_min</th>\n",
       "      <th>date_max</th>\n",
       "      <th>sales_max</th>\n",
       "    </tr>\n",
       "    <tr>\n",
       "      <th>year</th>\n",
       "      <th></th>\n",
       "      <th></th>\n",
       "      <th></th>\n",
       "      <th></th>\n",
       "    </tr>\n",
       "  </thead>\n",
       "  <tbody>\n",
       "    <tr>\n",
       "      <th>2013</th>\n",
       "      <td>2013-01-01</td>\n",
       "      <td>0.0</td>\n",
       "      <td>2013-12-31</td>\n",
       "      <td>46271.0</td>\n",
       "    </tr>\n",
       "    <tr>\n",
       "      <th>2014</th>\n",
       "      <td>2014-01-01</td>\n",
       "      <td>0.0</td>\n",
       "      <td>2014-12-31</td>\n",
       "      <td>45361.0</td>\n",
       "    </tr>\n",
       "    <tr>\n",
       "      <th>2015</th>\n",
       "      <td>2015-01-01</td>\n",
       "      <td>0.0</td>\n",
       "      <td>2015-12-31</td>\n",
       "      <td>33274.0</td>\n",
       "    </tr>\n",
       "    <tr>\n",
       "      <th>2016</th>\n",
       "      <td>2016-02-08</td>\n",
       "      <td>0.0</td>\n",
       "      <td>2016-12-26</td>\n",
       "      <td>124717.0</td>\n",
       "    </tr>\n",
       "    <tr>\n",
       "      <th>2017</th>\n",
       "      <td>2017-01-02</td>\n",
       "      <td>0.0</td>\n",
       "      <td>2017-08-15</td>\n",
       "      <td>23966.0</td>\n",
       "    </tr>\n",
       "  </tbody>\n",
       "</table>\n",
       "</div>"
      ],
      "text/plain": [
       "       date_min  sales_min   date_max  sales_max\n",
       "year                                            \n",
       "2013 2013-01-01        0.0 2013-12-31    46271.0\n",
       "2014 2014-01-01        0.0 2014-12-31    45361.0\n",
       "2015 2015-01-01        0.0 2015-12-31    33274.0\n",
       "2016 2016-02-08        0.0 2016-12-26   124717.0\n",
       "2017 2017-01-02        0.0 2017-08-15    23966.0"
      ]
     },
     "execution_count": 64,
     "metadata": {},
     "output_type": "execute_result"
    }
   ],
   "source": [
    "min_sales_dates = train_eda.groupby('year')[['date', 'sales']].min()\n",
    "max_sales_dates = train_eda.groupby('year')[['date', 'sales']].max()\n",
    "\n",
    "full_dates = min_sales_dates.merge(max_sales_dates, on=['year'])\n",
    "\n",
    "full_dates.rename(columns={'date_x': 'date_min', 'sales_x': 'sales_min', 'date_y': 'date_max', 'sales_y': 'sales_max'},  inplace=True)\n",
    "\n",
    "full_dates"
   ]
  },
  {
   "cell_type": "markdown",
   "metadata": {},
   "source": [
    "3. DID THE EARTHQUAKE IMPACT SALES?"
   ]
  },
  {
   "cell_type": "code",
   "execution_count": 69,
   "metadata": {},
   "outputs": [],
   "source": [
    "# Filter data for the period before and after the earthquake\n",
    "pre_earthquake = train_eda[train_eda['date'] < '2016-04-16']\n",
    "post_earthquake = train_eda[train_eda['date'] >= '2016-04-16']"
   ]
  },
  {
   "cell_type": "code",
   "execution_count": 74,
   "metadata": {},
   "outputs": [],
   "source": [
    "# Create a line plot for sales\n",
    "fig = px.line(train_eda, x='date', y='sales', title='Supermarket Sales Over Time')\n",
    "\n",
    "# Earthquake date\n",
    "earthquake_date = '2016-04-16'\n",
    "\n",
    "# Add a vertical line at the date of the earthquake\n",
    "fig.add_shape(\n",
    "    go.layout.Shape(\n",
    "        type='line',\n",
    "        x0=earthquake_date,\n",
    "        x1=earthquake_date,\n",
    "        y0=0,\n",
    "        y1=train_eda['sales'].max(),\n",
    "        line=dict(color='red', width=2, dash='dash'),\n",
    "    )\n",
    ")\n",
    "\n",
    "# Show plot\n",
    "plt.show()"
   ]
  },
  {
   "cell_type": "markdown",
   "metadata": {},
   "source": [
    "#### **STATISTICAL ANALYSIS**"
   ]
  },
  {
   "cell_type": "code",
   "execution_count": 71,
   "metadata": {},
   "outputs": [
    {
     "name": "stdout",
     "output_type": "stream",
     "text": [
      "The difference in sales before and after the earthquake is statistically significant (p-value = 5.925430444033457e-125).\n"
     ]
    }
   ],
   "source": [
    "# Perform a t-test to compare sales before and after the earthquake\n",
    "t_stat, p_value, _ = ttest_ind(pre_earthquake['sales'], post_earthquake['sales'])\n",
    "\n",
    "# Significance level\n",
    "alpha = 0.05\n",
    "\n",
    "if p_value < alpha:\n",
    "    print(f\"The difference in sales before and after the earthquake is statistically significant (p-value = {p_value}).\")\n",
    "else:\n",
    "    print(f\"There is no statistically significant difference in sales before and after the earthquake (p-value = {p_value}).\")"
   ]
  },
  {
   "cell_type": "markdown",
   "metadata": {},
   "source": [
    "4. ARE CERTAIN GROUPS OF STORES SELLING MORE PRODUCTS? (CLUSTER, CITY, STATE, TYPE)"
   ]
  },
  {
   "cell_type": "code",
   "execution_count": 61,
   "metadata": {},
   "outputs": [
    {
     "data": {
      "image/png": "[encoded data removed]",
      "text/plain": [
       "<Figure size 1200x800 with 4 Axes>"
      ]
     },
     "metadata": {},
     "output_type": "display_data"
    }
   ],
   "source": [
    "# Calculate total sales for the top 5 cities, clusters, states, and store types\n",
    "top_cities = train_eda.groupby('city')['sales'].sum().sort_values(ascending=False).nlargest(5).reset_index()\n",
    "top_clusters = train_eda.groupby('cluster')['sales'].sum().sort_values(ascending=False).nlargest(5).reset_index()\n",
    "top_states = train_eda.groupby('state')['sales'].sum().sort_values(ascending=False).nlargest(5).reset_index()\n",
    "top_store_types = train_eda.groupby('store_type')['sales'].sum().sort_values(ascending=False).nlargest(5).reset_index()\n",
    "\n",
    "# Create subplots with 2 rows and 2 columns\n",
    "fig, axes = plt.subplots(2, 2, figsize=(12, 8))\n",
    "fig.suptitle('Top 5 Sales by City, Cluster, State, and Store Type', fontsize=16)\n",
    "\n",
    "# Add bar graphs for top cities\n",
    "sns.barplot(data=top_cities, x='city', y='sales', ax=axes[0, 0])\n",
    "axes[0, 0].set_title('Top Cities')\n",
    "axes[0, 0].set_xlabel('City')\n",
    "axes[0, 0].set_ylabel('Total Sales')\n",
    "\n",
    "# Add bar graphs for top clusters\n",
    "sns.barplot(data=top_clusters, x='cluster', y='sales', ax=axes[0, 1])\n",
    "axes[0, 1].set_title('Top Clusters')\n",
    "axes[0, 1].set_xlabel('Cluster')\n",
    "axes[0, 1].set_ylabel('Total Sales')\n",
    "\n",
    "# Add bar graphs for top states\n",
    "sns.barplot(data=top_states, x='state', y='sales', ax=axes[1, 0])\n",
    "axes[1, 0].set_title('Top States')\n",
    "axes[1, 0].set_xlabel('State')\n",
    "axes[1, 0].set_ylabel('Total Sales')\n",
    "\n",
    "# Add bar graphs for top store types\n",
    "sns.barplot(data=top_store_types, x='store_type', y='sales', ax=axes[1, 1])\n",
    "axes[1, 1].set_title('Top Store Types')\n",
    "axes[1, 1].set_xlabel('Store Type')\n",
    "axes[1, 1].set_ylabel('Total Sales')\n",
    "\n",
    "# Adjust subplot layout\n",
    "plt.tight_layout(rect=[0, 0, 1, 0.95])\n",
    "\n",
    "# Show the plot\n",
    "plt.show()"
   ]
  },
  {
   "cell_type": "markdown",
   "metadata": {},
   "source": [
    "### **DATA SAMPLING**"
   ]
  },
  {
   "cell_type": "code",
   "execution_count": 75,
   "metadata": {},
   "outputs": [],
   "source": [
    "# Define a function to perform the sampling\n",
    "def data_sample(df, size):\n",
    "    \"\"\"\n",
    "    Randomly samples rows from a DataFrame.\n",
    "\n",
    "    Parameters:\n",
    "    - df (pd.DataFrame): The input DataFrame from which to sample.\n",
    "    - size (float): The proportion of rows to sample (e.g., 0.1 for 10%).\n",
    "\n",
    "    Returns:\n",
    "    - pd.DataFrame: A randomly sampled subset of the input DataFrame.\n",
    "    \"\"\"\n",
    "    # Set a seed for reproducibility (optional)\n",
    "    random.seed(42)\n",
    "\n",
    "    # Calculate the number of rows to sample based on the specified proportion\n",
    "    sample_size = int(size * len(df))\n",
    "\n",
    "    # Randomly select rows to create a sample\n",
    "    sampled_data = df.sample(n=sample_size)\n",
    "\n",
    "    return sampled_data"
   ]
  },
  {
   "cell_type": "code",
   "execution_count": 76,
   "metadata": {},
   "outputs": [],
   "source": [
    "# Apply the function to sample the 40%\n",
    "sampled_train = data_sample(train_eda, 0.4)"
   ]
  },
  {
   "cell_type": "code",
   "execution_count": 77,
   "metadata": {},
   "outputs": [
    {
     "data": {
      "text/plain": [
       "(128818, 18)"
      ]
     },
     "execution_count": 77,
     "metadata": {},
     "output_type": "execute_result"
    }
   ],
   "source": [
    "# Confirm changes\n",
    "sampled_train.shape"
   ]
  },
  {
   "cell_type": "markdown",
   "metadata": {},
   "source": [
    "HANDLING MISSING VALUES"
   ]
  },
  {
   "cell_type": "code",
   "execution_count": 78,
   "metadata": {},
   "outputs": [
    {
     "data": {
      "text/plain": [
       "np.int64(22044)"
      ]
     },
     "execution_count": 78,
     "metadata": {},
     "output_type": "execute_result"
    }
   ],
   "source": [
    "# Check for the null values in the price data\n",
    "train_eda['price'].isnull().sum()"
   ]
  },
  {
   "cell_type": "code",
   "execution_count": 79,
   "metadata": {},
   "outputs": [],
   "source": [
    "# Get the price column\n",
    "oil_price = train_eda.set_index('date')['price']\n",
    "\n",
    "# Apply time-based interpolation\n",
    "oil_price_interpolated = oil_price.interpolate(method='index')"
   ]
  },
  {
   "cell_type": "code",
   "execution_count": 80,
   "metadata": {},
   "outputs": [
    {
     "data": {
      "image/png": "[encoded data removed]",
      "text/plain": [
       "<Figure size 1200x500 with 2 Axes>"
      ]
     },
     "metadata": {},
     "output_type": "display_data"
    }
   ],
   "source": [
    "# Confirm changes by plotting the price with the missing values and price interpolated\n",
    "\n",
    "# Create a figure with two subplots\n",
    "fig, axes = plt.subplots(1, 2, figsize=(12, 5))\n",
    "\n",
    "# Plot the original oil price data\n",
    "sns.lineplot(data=oil_price, ax=axes[0])\n",
    "axes[0].set_title('Original Oil Price')\n",
    "\n",
    "# Plot the interpolated oil price data\n",
    "sns.lineplot(data=oil_price_interpolated, ax=axes[1])\n",
    "axes[1].set_title('Interpolated Oil Price')\n",
    "\n",
    "# Add labels and adjust layout\n",
    "for ax in axes:\n",
    "    ax.set_xlabel('Date')\n",
    "    ax.set_ylabel('Price')\n",
    "    ax.grid(True)\n",
    "\n",
    "plt.tight_layout()\n",
    "\n",
    "# Show plot\n",
    "plt.show()"
   ]
  },
  {
   "cell_type": "markdown",
   "metadata": {},
   "source": [
    "From the above plot, the interpolation method shows consistent and good result and maintains data integrity"
   ]
  },
  {
   "cell_type": "markdown",
   "metadata": {},
   "source": [
    "#### **DATA MERGING FOR MODELING AND PREDICTIONS**"
   ]
  },
  {
   "cell_type": "markdown",
   "metadata": {},
   "source": [
    "Given the incomplete nature of the previously used transaction dataset during exploratory data analysis, we will now merge the various datasets once more to ensure a seamless modeling process."
   ]
  },
  {
   "cell_type": "code",
   "execution_count": 81,
   "metadata": {},
   "outputs": [],
   "source": [
    "# Merge Stores with Train on store_nbr\n",
    "df_merged = df_train.merge(df_stores, on='store_nbr', how='left')"
   ]
  },
  {
   "cell_type": "code",
   "execution_count": 82,
   "metadata": {},
   "outputs": [],
   "source": [
    "# Merge Oil on date\n",
    "df_merged = df_merged.merge(data_oil, on='date', how='left')"
   ]
  },
  {
   "cell_type": "code",
   "execution_count": 83,
   "metadata": {},
   "outputs": [],
   "source": [
    "# Merge holidays_events on 'date'\n",
    "df_merged = df_merged.merge(df_holidays_events, on='date', how='left')"
   ]
  },
  {
   "cell_type": "code",
   "execution_count": 84,
   "metadata": {},
   "outputs": [],
   "source": [
    "# Fill in missing values introduced by the merging\n",
    "df_merged[['type_y', 'locale', 'locale_name']] = df_merged[['type_y', 'locale', 'locale_name']].fillna('NoHoliday')\n",
    "df_merged['transferred'] = df_merged['transferred'].fillna(False)"
   ]
  },
  {
   "cell_type": "code",
   "execution_count": 85,
   "metadata": {},
   "outputs": [
    {
     "data": {
      "text/html": [
       "<div>\n",
       "<style scoped>\n",
       "    .dataframe tbody tr th:only-of-type {\n",
       "        vertical-align: middle;\n",
       "    }\n",
       "\n",
       "    .dataframe tbody tr th {\n",
       "        vertical-align: top;\n",
       "    }\n",
       "\n",
       "    .dataframe thead th {\n",
       "        text-align: right;\n",
       "    }\n",
       "</style>\n",
       "<table border=\"1\" class=\"dataframe\">\n",
       "  <thead>\n",
       "    <tr style=\"text-align: right;\">\n",
       "      <th></th>\n",
       "      <th>id</th>\n",
       "      <th>date</th>\n",
       "      <th>store_nbr</th>\n",
       "      <th>family</th>\n",
       "      <th>sales</th>\n",
       "      <th>onpromotion</th>\n",
       "      <th>city</th>\n",
       "      <th>state</th>\n",
       "      <th>type_x</th>\n",
       "      <th>cluster</th>\n",
       "      <th>dcoilwtico</th>\n",
       "      <th>type_y</th>\n",
       "      <th>locale</th>\n",
       "      <th>locale_name</th>\n",
       "      <th>description</th>\n",
       "      <th>transferred</th>\n",
       "    </tr>\n",
       "  </thead>\n",
       "  <tbody>\n",
       "    <tr>\n",
       "      <th>0</th>\n",
       "      <td>0</td>\n",
       "      <td>2013-01-01</td>\n",
       "      <td>1</td>\n",
       "      <td>AUTOMOTIVE</td>\n",
       "      <td>0.0</td>\n",
       "      <td>0</td>\n",
       "      <td>Quito</td>\n",
       "      <td>Pichincha</td>\n",
       "      <td>D</td>\n",
       "      <td>13</td>\n",
       "      <td>NaN</td>\n",
       "      <td>Holiday</td>\n",
       "      <td>National</td>\n",
       "      <td>Ecuador</td>\n",
       "      <td>Primer dia del ano</td>\n",
       "      <td>False</td>\n",
       "    </tr>\n",
       "    <tr>\n",
       "      <th>1</th>\n",
       "      <td>1</td>\n",
       "      <td>2013-01-01</td>\n",
       "      <td>1</td>\n",
       "      <td>BABY CARE</td>\n",
       "      <td>0.0</td>\n",
       "      <td>0</td>\n",
       "      <td>Quito</td>\n",
       "      <td>Pichincha</td>\n",
       "      <td>D</td>\n",
       "      <td>13</td>\n",
       "      <td>NaN</td>\n",
       "      <td>Holiday</td>\n",
       "      <td>National</td>\n",
       "      <td>Ecuador</td>\n",
       "      <td>Primer dia del ano</td>\n",
       "      <td>False</td>\n",
       "    </tr>\n",
       "    <tr>\n",
       "      <th>2</th>\n",
       "      <td>2</td>\n",
       "      <td>2013-01-01</td>\n",
       "      <td>1</td>\n",
       "      <td>BEAUTY</td>\n",
       "      <td>0.0</td>\n",
       "      <td>0</td>\n",
       "      <td>Quito</td>\n",
       "      <td>Pichincha</td>\n",
       "      <td>D</td>\n",
       "      <td>13</td>\n",
       "      <td>NaN</td>\n",
       "      <td>Holiday</td>\n",
       "      <td>National</td>\n",
       "      <td>Ecuador</td>\n",
       "      <td>Primer dia del ano</td>\n",
       "      <td>False</td>\n",
       "    </tr>\n",
       "    <tr>\n",
       "      <th>3</th>\n",
       "      <td>3</td>\n",
       "      <td>2013-01-01</td>\n",
       "      <td>1</td>\n",
       "      <td>BEVERAGES</td>\n",
       "      <td>0.0</td>\n",
       "      <td>0</td>\n",
       "      <td>Quito</td>\n",
       "      <td>Pichincha</td>\n",
       "      <td>D</td>\n",
       "      <td>13</td>\n",
       "      <td>NaN</td>\n",
       "      <td>Holiday</td>\n",
       "      <td>National</td>\n",
       "      <td>Ecuador</td>\n",
       "      <td>Primer dia del ano</td>\n",
       "      <td>False</td>\n",
       "    </tr>\n",
       "    <tr>\n",
       "      <th>4</th>\n",
       "      <td>4</td>\n",
       "      <td>2013-01-01</td>\n",
       "      <td>1</td>\n",
       "      <td>BOOKS</td>\n",
       "      <td>0.0</td>\n",
       "      <td>0</td>\n",
       "      <td>Quito</td>\n",
       "      <td>Pichincha</td>\n",
       "      <td>D</td>\n",
       "      <td>13</td>\n",
       "      <td>NaN</td>\n",
       "      <td>Holiday</td>\n",
       "      <td>National</td>\n",
       "      <td>Ecuador</td>\n",
       "      <td>Primer dia del ano</td>\n",
       "      <td>False</td>\n",
       "    </tr>\n",
       "  </tbody>\n",
       "</table>\n",
       "</div>"
      ],
      "text/plain": [
       "   id       date  store_nbr      family  sales onpromotion   city      state  \\\n",
       "0   0 2013-01-01          1  AUTOMOTIVE    0.0           0  Quito  Pichincha   \n",
       "1   1 2013-01-01          1   BABY CARE    0.0           0  Quito  Pichincha   \n",
       "2   2 2013-01-01          1      BEAUTY    0.0           0  Quito  Pichincha   \n",
       "3   3 2013-01-01          1   BEVERAGES    0.0           0  Quito  Pichincha   \n",
       "4   4 2013-01-01          1       BOOKS    0.0           0  Quito  Pichincha   \n",
       "\n",
       "  type_x  cluster  dcoilwtico   type_y    locale locale_name  \\\n",
       "0      D       13         NaN  Holiday  National     Ecuador   \n",
       "1      D       13         NaN  Holiday  National     Ecuador   \n",
       "2      D       13         NaN  Holiday  National     Ecuador   \n",
       "3      D       13         NaN  Holiday  National     Ecuador   \n",
       "4      D       13         NaN  Holiday  National     Ecuador   \n",
       "\n",
       "          description transferred  \n",
       "0  Primer dia del ano       False  \n",
       "1  Primer dia del ano       False  \n",
       "2  Primer dia del ano       False  \n",
       "3  Primer dia del ano       False  \n",
       "4  Primer dia del ano       False  "
      ]
     },
     "execution_count": 85,
     "metadata": {},
     "output_type": "execute_result"
    }
   ],
   "source": [
    "# Confirm changes\n",
    "df_merged.head()\n"
   ]
  },
  {
   "cell_type": "code",
   "execution_count": 86,
   "metadata": {},
   "outputs": [],
   "source": [
    "# Convert onpromotion column to numeric\n",
    "df_merged['onpromotion'] = pd.to_numeric(df_merged['onpromotion'], errors='coerce')"
   ]
  },
  {
   "cell_type": "code",
   "execution_count": 103,
   "metadata": {},
   "outputs": [
    {
     "ename": "NameError",
     "evalue": "name 'custom_color_palette' is not defined",
     "output_type": "error",
     "traceback": [
      "\u001b[1;31m---------------------------------------------------------------------------\u001b[0m",
      "\u001b[1;31mNameError\u001b[0m                                 Traceback (most recent call last)",
      "Cell \u001b[1;32mIn[103], line 11\u001b[0m\n\u001b[0;32m      9\u001b[0m \u001b[38;5;66;03m# Create a heatmap of the correlation matrix using Seaborn\u001b[39;00m\n\u001b[0;32m     10\u001b[0m plt\u001b[38;5;241m.\u001b[39mfigure(figsize\u001b[38;5;241m=\u001b[39m(\u001b[38;5;241m10\u001b[39m, \u001b[38;5;241m8\u001b[39m))\n\u001b[1;32m---> 11\u001b[0m sns\u001b[38;5;241m.\u001b[39mheatmap(corr_matrix, annot\u001b[38;5;241m=\u001b[39m\u001b[38;5;28;01mTrue\u001b[39;00m, cmap\u001b[38;5;241m=\u001b[39m\u001b[43mcustom_color_palette\u001b[49m)\n\u001b[0;32m     12\u001b[0m plt\u001b[38;5;241m.\u001b[39mtitle(\u001b[38;5;124m'\u001b[39m\u001b[38;5;124mCorrelation Matrix\u001b[39m\u001b[38;5;124m'\u001b[39m)\n\u001b[0;32m     13\u001b[0m plt\u001b[38;5;241m.\u001b[39mshow()\n",
      "\u001b[1;31mNameError\u001b[0m: name 'custom_color_palette' is not defined"
     ]
    },
    {
     "data": {
      "text/plain": [
       "<Figure size 1000x800 with 0 Axes>"
      ]
     },
     "metadata": {},
     "output_type": "display_data"
    }
   ],
   "source": [
    "# Calculate the correlation matrix\n",
    "\n",
    "# Select numeric columns\n",
    "numeric_df = df_merged.select_dtypes(include=['float64', 'int64'])\n",
    "\n",
    "# Calculate the correlation matrix\n",
    "corr_matrix = numeric_df.corr()\n",
    "\n",
    "# Create a heatmap of the correlation matrix using Seaborn\n",
    "plt.figure(figsize=(10, 8))\n",
    "sns.heatmap(corr_matrix, annot=True, cmap=custom_color_palette)\n",
    "plt.title('Correlation Matrix')\n",
    "plt.show()"
   ]
  },
  {
   "cell_type": "code",
   "execution_count": 90,
   "metadata": {},
   "outputs": [],
   "source": [
    "# Set 'id' column as the index\n",
    "df_merged.set_index('id', inplace=True)"
   ]
  },
  {
   "cell_type": "code",
   "execution_count": 91,
   "metadata": {},
   "outputs": [],
   "source": [
    "# Columns to drop\n",
    "columns_to_drop = [ 'city', 'state', 'type_x', 'dcoilwtico', 'type_y', 'locale', 'locale_name', 'transferred']\n",
    "\n",
    "# Drop the columns\n",
    "df_merged = df_merged.drop(columns=columns_to_drop)"
   ]
  },
  {
   "cell_type": "code",
   "execution_count": 92,
   "metadata": {},
   "outputs": [],
   "source": [
    "# Rearrange columns to make 'sales' the last column\n",
    "cols = [col for col in df_merged.columns if col != 'sales'] + ['sales']\n",
    "df_merged = df_merged[cols]"
   ]
  },
  {
   "cell_type": "code",
   "execution_count": 93,
   "metadata": {},
   "outputs": [],
   "source": [
    "# Aggregating data\n",
    "df_family_aggregated = df_merged.groupby(['date', 'family']).agg({ 'sales': 'sum', 'onpromotion': 'sum' }).reset_index()"
   ]
  },
  {
   "cell_type": "code",
   "execution_count": 94,
   "metadata": {},
   "outputs": [
    {
     "data": {
      "text/plain": [
       "date           0\n",
       "family         0\n",
       "sales          0\n",
       "onpromotion    0\n",
       "dtype: int64"
      ]
     },
     "execution_count": 94,
     "metadata": {},
     "output_type": "execute_result"
    }
   ],
   "source": [
    "df_family_aggregated.isnull().sum()"
   ]
  },
  {
   "cell_type": "markdown",
   "metadata": {},
   "source": [
    "### **FEATURE ENGINEERING**"
   ]
  },
  {
   "cell_type": "code",
   "execution_count": 95,
   "metadata": {},
   "outputs": [],
   "source": [
    "# Create day of the week feature\n",
    "df_family_aggregated['day_of_week'] = df_family_aggregated['date'].dt.dayofweek\n",
    "\n",
    "# Lag sales by 1 to get the previous day sales value\n",
    "df_family_aggregated['lag_1'] = df_family_aggregated['sales'].shift(1)\n",
    "\n",
    "# Add rolling mean with a 7-day window \n",
    "df_family_aggregated['rolling_mean'] = df_family_aggregated['sales'].rolling(window=7).mean()"
   ]
  },
  {
   "cell_type": "code",
   "execution_count": 96,
   "metadata": {},
   "outputs": [
    {
     "data": {
      "text/plain": [
       "date            0\n",
       "family          0\n",
       "sales           0\n",
       "onpromotion     0\n",
       "day_of_week     0\n",
       "lag_1           1\n",
       "rolling_mean    6\n",
       "dtype: int64"
      ]
     },
     "execution_count": 96,
     "metadata": {},
     "output_type": "execute_result"
    }
   ],
   "source": [
    "# Check for mising values\n",
    "df_family_aggregated.isnull().sum()"
   ]
  },
  {
   "cell_type": "code",
   "execution_count": 97,
   "metadata": {},
   "outputs": [],
   "source": [
    "# Drop all Missing values introduced due to lag and rolling mean\n",
    "df_family_aggregated.dropna(inplace=True)"
   ]
  },
  {
   "cell_type": "code",
   "execution_count": 98,
   "metadata": {},
   "outputs": [
    {
     "data": {
      "text/plain": [
       "(55566, 7)"
      ]
     },
     "execution_count": 98,
     "metadata": {},
     "output_type": "execute_result"
    }
   ],
   "source": [
    "# Get the rows and columns\n",
    "df_family_aggregated.shape\n"
   ]
  },
  {
   "cell_type": "markdown",
   "metadata": {},
   "source": [
    "After conducting feature engineering, our dataset has transformed to dimensions (55566, 7). The new features and modifications introduced through this process are expected to provide additional insights and predictive power for our models. With these enhancements, we are better equipped to build and evaluate more accurate forecasting models."
   ]
  },
  {
   "cell_type": "markdown",
   "metadata": {},
   "source": [
    "### **DATA PREPROCESSING**"
   ]
  },
  {
   "cell_type": "code",
   "execution_count": 99,
   "metadata": {},
   "outputs": [
    {
     "data": {
      "text/html": [
       "<div>\n",
       "<style scoped>\n",
       "    .dataframe tbody tr th:only-of-type {\n",
       "        vertical-align: middle;\n",
       "    }\n",
       "\n",
       "    .dataframe tbody tr th {\n",
       "        vertical-align: top;\n",
       "    }\n",
       "\n",
       "    .dataframe thead th {\n",
       "        text-align: right;\n",
       "    }\n",
       "</style>\n",
       "<table border=\"1\" class=\"dataframe\">\n",
       "  <thead>\n",
       "    <tr style=\"text-align: right;\">\n",
       "      <th></th>\n",
       "      <th>date</th>\n",
       "      <th>family</th>\n",
       "      <th>sales</th>\n",
       "      <th>onpromotion</th>\n",
       "      <th>day_of_week</th>\n",
       "      <th>lag_1</th>\n",
       "      <th>rolling_mean</th>\n",
       "    </tr>\n",
       "  </thead>\n",
       "  <tbody>\n",
       "    <tr>\n",
       "      <th>6</th>\n",
       "      <td>2013-01-01</td>\n",
       "      <td>CELEBRATION</td>\n",
       "      <td>0.00</td>\n",
       "      <td>0</td>\n",
       "      <td>1</td>\n",
       "      <td>180.589</td>\n",
       "      <td>141.798429</td>\n",
       "    </tr>\n",
       "    <tr>\n",
       "      <th>7</th>\n",
       "      <td>2013-01-01</td>\n",
       "      <td>CLEANING</td>\n",
       "      <td>186.00</td>\n",
       "      <td>0</td>\n",
       "      <td>1</td>\n",
       "      <td>0.000</td>\n",
       "      <td>168.369857</td>\n",
       "    </tr>\n",
       "    <tr>\n",
       "      <th>8</th>\n",
       "      <td>2013-01-01</td>\n",
       "      <td>DAIRY</td>\n",
       "      <td>143.00</td>\n",
       "      <td>0</td>\n",
       "      <td>1</td>\n",
       "      <td>186.000</td>\n",
       "      <td>188.798429</td>\n",
       "    </tr>\n",
       "    <tr>\n",
       "      <th>9</th>\n",
       "      <td>2013-01-01</td>\n",
       "      <td>DELI</td>\n",
       "      <td>71.09</td>\n",
       "      <td>0</td>\n",
       "      <td>1</td>\n",
       "      <td>143.000</td>\n",
       "      <td>198.668429</td>\n",
       "    </tr>\n",
       "    <tr>\n",
       "      <th>10</th>\n",
       "      <td>2013-01-01</td>\n",
       "      <td>EGGS</td>\n",
       "      <td>46.00</td>\n",
       "      <td>0</td>\n",
       "      <td>1</td>\n",
       "      <td>71.090</td>\n",
       "      <td>89.525571</td>\n",
       "    </tr>\n",
       "  </tbody>\n",
       "</table>\n",
       "</div>"
      ],
      "text/plain": [
       "         date       family   sales  onpromotion  day_of_week    lag_1  \\\n",
       "6  2013-01-01  CELEBRATION    0.00            0            1  180.589   \n",
       "7  2013-01-01     CLEANING  186.00            0            1    0.000   \n",
       "8  2013-01-01        DAIRY  143.00            0            1  186.000   \n",
       "9  2013-01-01         DELI   71.09            0            1  143.000   \n",
       "10 2013-01-01         EGGS   46.00            0            1   71.090   \n",
       "\n",
       "    rolling_mean  \n",
       "6     141.798429  \n",
       "7     168.369857  \n",
       "8     188.798429  \n",
       "9     198.668429  \n",
       "10     89.525571  "
      ]
     },
     "execution_count": 99,
     "metadata": {},
     "output_type": "execute_result"
    }
   ],
   "source": [
    "df_family_aggregated.head()"
   ]
  },
  {
   "cell_type": "code",
   "execution_count": 100,
   "metadata": {},
   "outputs": [],
   "source": [
    "# Define a high level function to preprocess the data \n",
    "def preprocess_data(df: pd.DataFrame):\n",
    "    \n",
    "    # Separate Categorial and Numerical Columns\n",
    "    cat_col = df.select_dtypes('object').columns\n",
    "    num_col = df.select_dtypes('number').columns\n",
    "\n",
    "    # Save a copy of the date column\n",
    "    original_date = df['date'].copy()\n",
    "\n",
    "    # Define the preprocessing steps using ColumnTransformer and Pipeline\n",
    "    preprocessor = ColumnTransformer([\n",
    "        ('scaler', MinMaxScaler(), num_col),\n",
    "        ('encoder', OneHotEncoder(handle_unknown='ignore', categories='auto', sparse=False), cat_col),\n",
    "    ], remainder='passthrough')\n",
    "\n",
    "    # Fit the preprocessor to the data while the date is dropped\n",
    "    preprocessor.fit(df.drop('date', axis=1))\n",
    "\n",
    "    # Transform the data to get the preprocessed data\n",
    "    preprocessed = preprocessor.transform(df.drop('date', axis=1))\n",
    "\n",
    "    # Get the various transformers\n",
    "    encoder = preprocessor.named_transformers_['encoder']\n",
    "    scaler = preprocessor.named_transformers_['scaler']\n",
    "\n",
    "    # Access the feature names using the get_feature_names_out() method\n",
    "    encoded_feature_names = encoder.get_feature_names_out(input_features=cat_col)\n",
    "    scaled_feature_names = scaler.get_feature_names_out(input_features=num_col)\n",
    "\n",
    "    # Form a list of all features\n",
    "    all_feature_names = list(scaled_feature_names) + list(encoded_feature_names) \n",
    "\n",
    "    # Create a DataFrame and add the column names\n",
    "    preprocessed_df = pd.DataFrame(preprocessed, columns=all_feature_names)\n",
    "\n",
    "    # Set the index of the DataFrame to the original date\n",
    "    preprocessed_df.index = original_date\n",
    "\n",
    "    # Sort the DataFrame by date\n",
    "    preprocessed_df = preprocessed_df.sort_index().reset_index()\n",
    "\n",
    "    # Return the preprocessed data and the preprocessor\n",
    "    return preprocessed_df, preprocessor"
   ]
  },
  {
   "cell_type": "code",
   "execution_count": 102,
   "metadata": {},
   "outputs": [
    {
     "ename": "TypeError",
     "evalue": "OneHotEncoder.__init__() got an unexpected keyword argument 'sparse'",
     "output_type": "error",
     "traceback": [
      "\u001b[1;31m---------------------------------------------------------------------------\u001b[0m",
      "\u001b[1;31mTypeError\u001b[0m                                 Traceback (most recent call last)",
      "Cell \u001b[1;32mIn[102], line 2\u001b[0m\n\u001b[0;32m      1\u001b[0m \u001b[38;5;66;03m# Apply the function to get the preprocessed data\u001b[39;00m\n\u001b[1;32m----> 2\u001b[0m train_preprocessed_df, _ \u001b[38;5;241m=\u001b[39m \u001b[43mpreprocess_data\u001b[49m\u001b[43m(\u001b[49m\u001b[43mdf_family_aggregated\u001b[49m\u001b[43m)\u001b[49m\n",
      "Cell \u001b[1;32mIn[100], line 14\u001b[0m, in \u001b[0;36mpreprocess_data\u001b[1;34m(df)\u001b[0m\n\u001b[0;32m      9\u001b[0m original_date \u001b[38;5;241m=\u001b[39m df[\u001b[38;5;124m'\u001b[39m\u001b[38;5;124mdate\u001b[39m\u001b[38;5;124m'\u001b[39m]\u001b[38;5;241m.\u001b[39mcopy()\n\u001b[0;32m     11\u001b[0m \u001b[38;5;66;03m# Define the preprocessing steps using ColumnTransformer and Pipeline\u001b[39;00m\n\u001b[0;32m     12\u001b[0m preprocessor \u001b[38;5;241m=\u001b[39m ColumnTransformer([\n\u001b[0;32m     13\u001b[0m     (\u001b[38;5;124m'\u001b[39m\u001b[38;5;124mscaler\u001b[39m\u001b[38;5;124m'\u001b[39m, MinMaxScaler(), num_col),\n\u001b[1;32m---> 14\u001b[0m     (\u001b[38;5;124m'\u001b[39m\u001b[38;5;124mencoder\u001b[39m\u001b[38;5;124m'\u001b[39m, \u001b[43mOneHotEncoder\u001b[49m\u001b[43m(\u001b[49m\u001b[43mhandle_unknown\u001b[49m\u001b[38;5;241;43m=\u001b[39;49m\u001b[38;5;124;43m'\u001b[39;49m\u001b[38;5;124;43mignore\u001b[39;49m\u001b[38;5;124;43m'\u001b[39;49m\u001b[43m,\u001b[49m\u001b[43m \u001b[49m\u001b[43mcategories\u001b[49m\u001b[38;5;241;43m=\u001b[39;49m\u001b[38;5;124;43m'\u001b[39;49m\u001b[38;5;124;43mauto\u001b[39;49m\u001b[38;5;124;43m'\u001b[39;49m\u001b[43m,\u001b[49m\u001b[43m \u001b[49m\u001b[43msparse\u001b[49m\u001b[38;5;241;43m=\u001b[39;49m\u001b[38;5;28;43;01mFalse\u001b[39;49;00m\u001b[43m)\u001b[49m, cat_col),\n\u001b[0;32m     15\u001b[0m ], remainder\u001b[38;5;241m=\u001b[39m\u001b[38;5;124m'\u001b[39m\u001b[38;5;124mpassthrough\u001b[39m\u001b[38;5;124m'\u001b[39m)\n\u001b[0;32m     17\u001b[0m \u001b[38;5;66;03m# Fit the preprocessor to the data while the date is dropped\u001b[39;00m\n\u001b[0;32m     18\u001b[0m preprocessor\u001b[38;5;241m.\u001b[39mfit(df\u001b[38;5;241m.\u001b[39mdrop(\u001b[38;5;124m'\u001b[39m\u001b[38;5;124mdate\u001b[39m\u001b[38;5;124m'\u001b[39m, axis\u001b[38;5;241m=\u001b[39m\u001b[38;5;241m1\u001b[39m))\n",
      "\u001b[1;31mTypeError\u001b[0m: OneHotEncoder.__init__() got an unexpected keyword argument 'sparse'"
     ]
    }
   ],
   "source": [
    "# Apply the function to get the preprocessed data\n",
    "train_preprocessed_df, _ = preprocess_data(df_family_aggregated)"
   ]
  }
 ],
 "metadata": {
  "kernelspec": {
   "display_name": "Python 3",
   "language": "python",
   "name": "python3"
  },
  "language_info": {
   "codemirror_mode": {
    "name": "ipython",
    "version": 3
   },
   "file_extension": ".py",
   "mimetype": "text/x-python",
   "name": "python",
   "nbconvert_exporter": "python",
   "pygments_lexer": "ipython3",
   "version": "3.12.3"
  }
 },
 "nbformat": 4,
 "nbformat_minor": 2
}
